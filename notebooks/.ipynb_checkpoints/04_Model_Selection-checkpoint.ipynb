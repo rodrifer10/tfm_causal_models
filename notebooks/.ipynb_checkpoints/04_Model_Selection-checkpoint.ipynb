{
 "cells": [
  {
   "attachments": {
    "ed2b78cf-28e8-4b9f-b0a7-7a33715c6677.png": {
     "image/png": "[encoded data removed]"
    }
   },
   "cell_type": "markdown",
   "id": "407f8ec0-ed64-4bd5-9d10-ca5482ce7b06",
   "metadata": {},
   "source": [
    "![image.png](attachment:ed2b78cf-28e8-4b9f-b0a7-7a33715c6677.png)\n",
    "\n",
    "# Máster en Data Science - Trabajo Final de Máster"
   ]
  },
  {
   "cell_type": "markdown",
   "id": "d1513189-4152-4cf6-a597-f977ab246450",
   "metadata": {},
   "source": [
    "# Predicción de fraude mediante el uso de modelos de Machine Learning\n",
    "##### <font color='dodgerblue' face='Montserrat'>Autor: Rodrigo Fernandez Campos</font>\n",
    "## DataSet: Credit Card Fraud Detection"
   ]
  },
  {
   "cell_type": "markdown",
   "id": "05a09322-147f-44ca-b5ea-77e1e8add901",
   "metadata": {},
   "source": [
    "# <font size=25><b>Comparación y seleccion de Modelos</b></font>\n",
    "\n",
    "En este notebook se realizarán unos últimos tratamientos a los datos, como lo son el Oversampling y Undersampling, además del escalado y recorte de variables en base a lo decidido en el notebook anterior (03) y luego se procederá a la comparación y selección del modelo óptimo para resolver nuestro problema. Se aplicarán muchos modelos de Machine Learning para problemas de Clasificación en su versión por defecto, luego se seleccionará la configuración de datos con la que funcione mejor dicho modelo y finalmente se buscarán los hiperparámetros que mejores resultados obtengan. Para todos estos procesos de comparación y medidas se utilizará un set de Validación, que surgirá de volver a dividir en 70-30 al set de entrenamiento."
   ]
  },
  {
   "cell_type": "code",
   "execution_count": 155,
   "id": "dc0b4ffb-0b89-4773-847b-f3d5a886cb6d",
   "metadata": {
    "tags": []
   },
   "outputs": [],
   "source": [
    "# Librerías\n",
    "import pandas as pd\n",
    "import numpy as np\n",
    "import matplotlib.pyplot as plt\n",
    "import seaborn as sns\n",
    "from termcolor import colored, cprint\n",
    "from sklearn.preprocessing import OneHotEncoder\n",
    "from sklearn.preprocessing import OrdinalEncoder\n",
    "from sklearn.preprocessing import StandardScaler\n",
    "from sklearn.compose import ColumnTransformer\n",
    "from sklearn.preprocessing import TargetEncoder\n",
    "import importlib\n",
    "import sys\n",
    "from matplotlib import rc\n",
    "\n",
    "from sklearn.model_selection import train_test_split\n",
    "from sklearn.ensemble import RandomForestClassifier, GradientBoostingClassifier\n",
    "from sklearn import metrics\n",
    "from sklearn.linear_model import Lasso, LogisticRegression\n",
    "from sklearn.feature_selection import SelectFromModel, RFE\n",
    "from sklearn.preprocessing import StandardScaler\n",
    "from sklearn.tree import DecisionTreeClassifier\n",
    "from sklearn.ensemble import GradientBoostingClassifier\n",
    "from sklearn.pipeline import Pipeline\n",
    "from xgboost import XGBClassifier\n",
    "import lightgbm\n",
    "from lightgbm.sklearn import LGBMClassifier\n",
    "from sklearn.svm import SVC\n",
    "from sklearn.metrics import fbeta_score, make_scorer\n",
    "import pygam\n",
    "from pygam import LogisticGAM, s, f\n",
    "\n",
    "from sklearn.model_selection import GridSearchCV, RandomizedSearchCV\n",
    "from skopt import BayesSearchCV\n",
    "\n",
    "from sklearn.dummy import DummyClassifier\n",
    "from sklearn.naive_bayes import GaussianNB\n",
    "import statsmodels.api as sm\n",
    "\n",
    "from imblearn.over_sampling import SMOTE\n",
    "from imblearn.under_sampling import RandomUnderSampler\n",
    "from imblearn.pipeline import Pipeline\n",
    "from imblearn.combine import SMOTETomek\n",
    "from imblearn.combine import SMOTEENN\n",
    "from imblearn.under_sampling import NearMiss, TomekLinks\n",
    "\n",
    "from sklearn.metrics import balanced_accuracy_score, roc_auc_score,\\\n",
    "                            accuracy_score,average_precision_score, precision_recall_curve, roc_curve,\\\n",
    "                            auc, recall_score, precision_score, confusion_matrix, f1_score\n",
    "import pickle\n",
    "from joblib import dump, load\n",
    "\n",
    "import warnings\n",
    "warnings.filterwarnings('ignore')\n",
    "\n",
    "pd.set_option('display.max_columns', 500)\n",
    "pd.set_option('display.max_rows', 500)"
   ]
  },
  {
   "cell_type": "markdown",
   "id": "76bf12c4-4755-441b-beba-a508611679aa",
   "metadata": {},
   "source": [
    "## Funciones"
   ]
  },
  {
   "cell_type": "code",
   "execution_count": 2,
   "id": "ec3b7952-e55b-405d-a06a-cb3e39bbe766",
   "metadata": {
    "tags": []
   },
   "outputs": [],
   "source": [
    "sys.path.append('../src/')\n",
    "import functions_rfc as fr\n",
    "sys.path.remove('../src/')\n",
    "\n",
    "### Constantes:\n",
    "seed=10"
   ]
  },
  {
   "cell_type": "code",
   "execution_count": 10,
   "id": "5ff8f866-5426-4d5e-beb8-0b82a6b593bd",
   "metadata": {
    "tags": []
   },
   "outputs": [],
   "source": [
    "sys.path.append('../src/')\n",
    "importlib.reload(fr)\n",
    "sys.path.remove('../src/')"
   ]
  },
  {
   "cell_type": "markdown",
   "id": "dd26a6aa-3848-4a18-a679-e645ae18d797",
   "metadata": {},
   "source": [
    "***\n",
    "# Importo y preparo los datasets\n",
    "\n",
    "## Importo datasets procesados con anterioridad"
   ]
  },
  {
   "cell_type": "code",
   "execution_count": 11,
   "id": "d6aec855-a0b9-4026-8329-a23c46e46517",
   "metadata": {
    "tags": []
   },
   "outputs": [
    {
     "data": {
      "text/html": [
       "<div>\n",
       "<style scoped>\n",
       "    .dataframe tbody tr th:only-of-type {\n",
       "        vertical-align: middle;\n",
       "    }\n",
       "\n",
       "    .dataframe tbody tr th {\n",
       "        vertical-align: top;\n",
       "    }\n",
       "\n",
       "    .dataframe thead th {\n",
       "        text-align: right;\n",
       "    }\n",
       "</style>\n",
       "<table border=\"1\" class=\"dataframe\">\n",
       "  <thead>\n",
       "    <tr style=\"text-align: right;\">\n",
       "      <th></th>\n",
       "      <th>Time</th>\n",
       "      <th>V1</th>\n",
       "      <th>V2</th>\n",
       "      <th>V3</th>\n",
       "      <th>V4</th>\n",
       "      <th>V5</th>\n",
       "      <th>V6</th>\n",
       "      <th>V7</th>\n",
       "      <th>V8</th>\n",
       "      <th>V9</th>\n",
       "      <th>V10</th>\n",
       "      <th>V11</th>\n",
       "      <th>V12</th>\n",
       "      <th>V13</th>\n",
       "      <th>V14</th>\n",
       "      <th>V15</th>\n",
       "      <th>V16</th>\n",
       "      <th>V17</th>\n",
       "      <th>V18</th>\n",
       "      <th>V19</th>\n",
       "      <th>V20</th>\n",
       "      <th>V21</th>\n",
       "      <th>V22</th>\n",
       "      <th>V23</th>\n",
       "      <th>V24</th>\n",
       "      <th>V25</th>\n",
       "      <th>V26</th>\n",
       "      <th>V27</th>\n",
       "      <th>V28</th>\n",
       "      <th>Amount</th>\n",
       "      <th>Class</th>\n",
       "    </tr>\n",
       "  </thead>\n",
       "  <tbody>\n",
       "    <tr>\n",
       "      <th>0</th>\n",
       "      <td>89341.0</td>\n",
       "      <td>-0.656386</td>\n",
       "      <td>1.424725</td>\n",
       "      <td>-0.374499</td>\n",
       "      <td>-0.268099</td>\n",
       "      <td>0.432709</td>\n",
       "      <td>-1.055896</td>\n",
       "      <td>0.737874</td>\n",
       "      <td>0.262591</td>\n",
       "      <td>-0.157333</td>\n",
       "      <td>-1.503518</td>\n",
       "      <td>-0.826845</td>\n",
       "      <td>0.133826</td>\n",
       "      <td>0.209765</td>\n",
       "      <td>-1.578714</td>\n",
       "      <td>-0.909081</td>\n",
       "      <td>0.106251</td>\n",
       "      <td>1.348868</td>\n",
       "      <td>0.233703</td>\n",
       "      <td>-0.332256</td>\n",
       "      <td>-0.042349</td>\n",
       "      <td>0.081471</td>\n",
       "      <td>0.486126</td>\n",
       "      <td>-0.219454</td>\n",
       "      <td>-0.072756</td>\n",
       "      <td>-0.159109</td>\n",
       "      <td>0.584916</td>\n",
       "      <td>0.257623</td>\n",
       "      <td>0.202271</td>\n",
       "      <td>13.91</td>\n",
       "      <td>0</td>\n",
       "    </tr>\n",
       "    <tr>\n",
       "      <th>1</th>\n",
       "      <td>71750.0</td>\n",
       "      <td>-0.825579</td>\n",
       "      <td>-0.432325</td>\n",
       "      <td>0.066135</td>\n",
       "      <td>-1.993148</td>\n",
       "      <td>0.379293</td>\n",
       "      <td>0.735688</td>\n",
       "      <td>0.894906</td>\n",
       "      <td>0.031828</td>\n",
       "      <td>-1.542659</td>\n",
       "      <td>0.262563</td>\n",
       "      <td>-0.490056</td>\n",
       "      <td>-0.725732</td>\n",
       "      <td>-0.436209</td>\n",
       "      <td>0.342312</td>\n",
       "      <td>-0.090860</td>\n",
       "      <td>-0.843117</td>\n",
       "      <td>-0.765950</td>\n",
       "      <td>1.573114</td>\n",
       "      <td>-0.489669</td>\n",
       "      <td>-0.584245</td>\n",
       "      <td>-0.400461</td>\n",
       "      <td>-0.638548</td>\n",
       "      <td>0.257649</td>\n",
       "      <td>-1.710477</td>\n",
       "      <td>-0.176103</td>\n",
       "      <td>0.951044</td>\n",
       "      <td>0.028205</td>\n",
       "      <td>0.004047</td>\n",
       "      <td>156.58</td>\n",
       "      <td>0</td>\n",
       "    </tr>\n",
       "    <tr>\n",
       "      <th>2</th>\n",
       "      <td>157059.0</td>\n",
       "      <td>1.966052</td>\n",
       "      <td>0.057479</td>\n",
       "      <td>-1.744361</td>\n",
       "      <td>1.222036</td>\n",
       "      <td>0.567858</td>\n",
       "      <td>-0.643665</td>\n",
       "      <td>0.521794</td>\n",
       "      <td>-0.222291</td>\n",
       "      <td>0.055143</td>\n",
       "      <td>0.435288</td>\n",
       "      <td>0.328017</td>\n",
       "      <td>0.578401</td>\n",
       "      <td>-0.901340</td>\n",
       "      <td>0.838052</td>\n",
       "      <td>-1.124887</td>\n",
       "      <td>-0.415471</td>\n",
       "      <td>-0.461007</td>\n",
       "      <td>0.021888</td>\n",
       "      <td>0.186818</td>\n",
       "      <td>-0.274810</td>\n",
       "      <td>0.086272</td>\n",
       "      <td>0.364321</td>\n",
       "      <td>-0.066837</td>\n",
       "      <td>-0.405676</td>\n",
       "      <td>0.442932</td>\n",
       "      <td>-0.486842</td>\n",
       "      <td>-0.027070</td>\n",
       "      <td>-0.073031</td>\n",
       "      <td>30.54</td>\n",
       "      <td>0</td>\n",
       "    </tr>\n",
       "    <tr>\n",
       "      <th>3</th>\n",
       "      <td>35725.0</td>\n",
       "      <td>0.820990</td>\n",
       "      <td>-2.062937</td>\n",
       "      <td>-0.025251</td>\n",
       "      <td>-2.339499</td>\n",
       "      <td>-2.017082</td>\n",
       "      <td>-1.209201</td>\n",
       "      <td>-0.384134</td>\n",
       "      <td>-0.226652</td>\n",
       "      <td>1.328569</td>\n",
       "      <td>-0.898176</td>\n",
       "      <td>-0.736208</td>\n",
       "      <td>-0.029016</td>\n",
       "      <td>-1.092403</td>\n",
       "      <td>0.236282</td>\n",
       "      <td>1.473800</td>\n",
       "      <td>-2.500481</td>\n",
       "      <td>0.454946</td>\n",
       "      <td>1.658114</td>\n",
       "      <td>0.337533</td>\n",
       "      <td>0.027024</td>\n",
       "      <td>-0.186063</td>\n",
       "      <td>-0.531803</td>\n",
       "      <td>-0.301085</td>\n",
       "      <td>0.373017</td>\n",
       "      <td>0.461993</td>\n",
       "      <td>-0.761989</td>\n",
       "      <td>0.041723</td>\n",
       "      <td>0.080679</td>\n",
       "      <td>313.79</td>\n",
       "      <td>0</td>\n",
       "    </tr>\n",
       "    <tr>\n",
       "      <th>4</th>\n",
       "      <td>63476.0</td>\n",
       "      <td>0.898668</td>\n",
       "      <td>-0.038045</td>\n",
       "      <td>0.398146</td>\n",
       "      <td>1.372237</td>\n",
       "      <td>-0.330762</td>\n",
       "      <td>-0.519292</td>\n",
       "      <td>0.334188</td>\n",
       "      <td>-0.193017</td>\n",
       "      <td>-0.251740</td>\n",
       "      <td>-0.081831</td>\n",
       "      <td>0.317607</td>\n",
       "      <td>1.056179</td>\n",
       "      <td>1.280939</td>\n",
       "      <td>0.150031</td>\n",
       "      <td>1.039895</td>\n",
       "      <td>-0.280972</td>\n",
       "      <td>-0.144983</td>\n",
       "      <td>-0.755881</td>\n",
       "      <td>-1.009946</td>\n",
       "      <td>0.183015</td>\n",
       "      <td>0.219000</td>\n",
       "      <td>0.460729</td>\n",
       "      <td>-0.178354</td>\n",
       "      <td>0.446530</td>\n",
       "      <td>0.549538</td>\n",
       "      <td>-0.290213</td>\n",
       "      <td>0.017285</td>\n",
       "      <td>0.048999</td>\n",
       "      <td>144.00</td>\n",
       "      <td>0</td>\n",
       "    </tr>\n",
       "  </tbody>\n",
       "</table>\n",
       "</div>"
      ],
      "text/plain": [
       "       Time        V1        V2        V3        V4        V5        V6  \\\n",
       "0   89341.0 -0.656386  1.424725 -0.374499 -0.268099  0.432709 -1.055896   \n",
       "1   71750.0 -0.825579 -0.432325  0.066135 -1.993148  0.379293  0.735688   \n",
       "2  157059.0  1.966052  0.057479 -1.744361  1.222036  0.567858 -0.643665   \n",
       "3   35725.0  0.820990 -2.062937 -0.025251 -2.339499 -2.017082 -1.209201   \n",
       "4   63476.0  0.898668 -0.038045  0.398146  1.372237 -0.330762 -0.519292   \n",
       "\n",
       "         V7        V8        V9       V10       V11       V12       V13  \\\n",
       "0  0.737874  0.262591 -0.157333 -1.503518 -0.826845  0.133826  0.209765   \n",
       "1  0.894906  0.031828 -1.542659  0.262563 -0.490056 -0.725732 -0.436209   \n",
       "2  0.521794 -0.222291  0.055143  0.435288  0.328017  0.578401 -0.901340   \n",
       "3 -0.384134 -0.226652  1.328569 -0.898176 -0.736208 -0.029016 -1.092403   \n",
       "4  0.334188 -0.193017 -0.251740 -0.081831  0.317607  1.056179  1.280939   \n",
       "\n",
       "        V14       V15       V16       V17       V18       V19       V20  \\\n",
       "0 -1.578714 -0.909081  0.106251  1.348868  0.233703 -0.332256 -0.042349   \n",
       "1  0.342312 -0.090860 -0.843117 -0.765950  1.573114 -0.489669 -0.584245   \n",
       "2  0.838052 -1.124887 -0.415471 -0.461007  0.021888  0.186818 -0.274810   \n",
       "3  0.236282  1.473800 -2.500481  0.454946  1.658114  0.337533  0.027024   \n",
       "4  0.150031  1.039895 -0.280972 -0.144983 -0.755881 -1.009946  0.183015   \n",
       "\n",
       "        V21       V22       V23       V24       V25       V26       V27  \\\n",
       "0  0.081471  0.486126 -0.219454 -0.072756 -0.159109  0.584916  0.257623   \n",
       "1 -0.400461 -0.638548  0.257649 -1.710477 -0.176103  0.951044  0.028205   \n",
       "2  0.086272  0.364321 -0.066837 -0.405676  0.442932 -0.486842 -0.027070   \n",
       "3 -0.186063 -0.531803 -0.301085  0.373017  0.461993 -0.761989  0.041723   \n",
       "4  0.219000  0.460729 -0.178354  0.446530  0.549538 -0.290213  0.017285   \n",
       "\n",
       "        V28  Amount  Class  \n",
       "0  0.202271   13.91      0  \n",
       "1  0.004047  156.58      0  \n",
       "2 -0.073031   30.54      0  \n",
       "3  0.080679  313.79      0  \n",
       "4  0.048999  144.00      0  "
      ]
     },
     "execution_count": 11,
     "metadata": {},
     "output_type": "execute_result"
    }
   ],
   "source": [
    "df_fraud_train = pd.read_csv('../data/df_fraud_train.csv')\n",
    "\n",
    "df_fraud_train.head()"
   ]
  },
  {
   "cell_type": "markdown",
   "id": "49ab764a-f2a4-4da9-a117-38bdaabd07a7",
   "metadata": {},
   "source": [
    "Aplico el preprocesamiento mediante el uso de las funciones de feature selection y preprocesamiento (escalado).\n",
    "\n",
    "Además, dejo un dataset sin recortes de variables, para ver si es significativa la diferencia de métricas o no."
   ]
  },
  {
   "cell_type": "code",
   "execution_count": 12,
   "id": "b52d72e9-687b-418c-ae72-da421d3df18c",
   "metadata": {
    "tags": []
   },
   "outputs": [
    {
     "data": {
      "text/plain": [
       "((199364, 25), (199364, 31))"
      ]
     },
     "execution_count": 12,
     "metadata": {},
     "output_type": "execute_result"
    }
   ],
   "source": [
    "df_fraud_train_cut = fr.feature_selection(fr.preprocessing(df_fraud_train).fit_transform(df_fraud_train, df_fraud_train.Class))\n",
    "\n",
    "df_fraud_train = fr.preprocessing(df_fraud_train).fit_transform(df_fraud_train, df_fraud_train.Class)\n",
    "\n",
    "df_fraud_train_cut.shape, df_fraud_train.shape"
   ]
  },
  {
   "cell_type": "code",
   "execution_count": 13,
   "id": "aa63ac12-d423-45ff-b8eb-8862f0a8ffc4",
   "metadata": {
    "tags": []
   },
   "outputs": [
    {
     "data": {
      "text/html": [
       "<div>\n",
       "<style scoped>\n",
       "    .dataframe tbody tr th:only-of-type {\n",
       "        vertical-align: middle;\n",
       "    }\n",
       "\n",
       "    .dataframe tbody tr th {\n",
       "        vertical-align: top;\n",
       "    }\n",
       "\n",
       "    .dataframe thead th {\n",
       "        text-align: right;\n",
       "    }\n",
       "</style>\n",
       "<table border=\"1\" class=\"dataframe\">\n",
       "  <thead>\n",
       "    <tr style=\"text-align: right;\">\n",
       "      <th></th>\n",
       "      <th>Time</th>\n",
       "      <th>V1</th>\n",
       "      <th>V2</th>\n",
       "      <th>V3</th>\n",
       "      <th>V4</th>\n",
       "      <th>V5</th>\n",
       "      <th>V6</th>\n",
       "      <th>V7</th>\n",
       "      <th>V8</th>\n",
       "      <th>V9</th>\n",
       "      <th>V10</th>\n",
       "      <th>V11</th>\n",
       "      <th>V12</th>\n",
       "      <th>V14</th>\n",
       "      <th>V15</th>\n",
       "      <th>V16</th>\n",
       "      <th>V17</th>\n",
       "      <th>V18</th>\n",
       "      <th>V20</th>\n",
       "      <th>V21</th>\n",
       "      <th>V26</th>\n",
       "      <th>V27</th>\n",
       "      <th>V28</th>\n",
       "      <th>Amount</th>\n",
       "      <th>Class</th>\n",
       "    </tr>\n",
       "  </thead>\n",
       "  <tbody>\n",
       "    <tr>\n",
       "      <th>0</th>\n",
       "      <td>-0.117288</td>\n",
       "      <td>-0.336543</td>\n",
       "      <td>0.863028</td>\n",
       "      <td>-0.249212</td>\n",
       "      <td>-0.189719</td>\n",
       "      <td>0.312531</td>\n",
       "      <td>-0.790163</td>\n",
       "      <td>0.590161</td>\n",
       "      <td>0.220153</td>\n",
       "      <td>-0.143255</td>\n",
       "      <td>-1.383797</td>\n",
       "      <td>-0.810490</td>\n",
       "      <td>0.133854</td>\n",
       "      <td>-1.647103</td>\n",
       "      <td>-0.994362</td>\n",
       "      <td>0.122619</td>\n",
       "      <td>1.584767</td>\n",
       "      <td>0.278174</td>\n",
       "      <td>-0.053174</td>\n",
       "      <td>0.108585</td>\n",
       "      <td>1.213758</td>\n",
       "      <td>0.632811</td>\n",
       "      <td>0.590822</td>\n",
       "      <td>-0.297728</td>\n",
       "      <td>0</td>\n",
       "    </tr>\n",
       "    <tr>\n",
       "      <th>1</th>\n",
       "      <td>-0.487881</td>\n",
       "      <td>-0.422881</td>\n",
       "      <td>-0.261182</td>\n",
       "      <td>0.043205</td>\n",
       "      <td>-1.409140</td>\n",
       "      <td>0.273960</td>\n",
       "      <td>0.549864</td>\n",
       "      <td>0.716220</td>\n",
       "      <td>0.029807</td>\n",
       "      <td>-1.404875</td>\n",
       "      <td>0.242972</td>\n",
       "      <td>-0.480275</td>\n",
       "      <td>-0.725803</td>\n",
       "      <td>0.356672</td>\n",
       "      <td>-0.100439</td>\n",
       "      <td>-0.959409</td>\n",
       "      <td>-0.898011</td>\n",
       "      <td>1.876576</td>\n",
       "      <td>-0.754631</td>\n",
       "      <td>-0.537484</td>\n",
       "      <td>1.972748</td>\n",
       "      <td>0.069776</td>\n",
       "      <td>0.011364</td>\n",
       "      <td>0.273638</td>\n",
       "      <td>0</td>\n",
       "    </tr>\n",
       "    <tr>\n",
       "      <th>2</th>\n",
       "      <td>1.309339</td>\n",
       "      <td>1.001678</td>\n",
       "      <td>0.035332</td>\n",
       "      <td>-1.158292</td>\n",
       "      <td>0.863644</td>\n",
       "      <td>0.410120</td>\n",
       "      <td>-0.481832</td>\n",
       "      <td>0.416702</td>\n",
       "      <td>-0.179803</td>\n",
       "      <td>0.050248</td>\n",
       "      <td>0.402072</td>\n",
       "      <td>0.321828</td>\n",
       "      <td>0.578480</td>\n",
       "      <td>0.873766</td>\n",
       "      <td>-1.230134</td>\n",
       "      <td>-0.472006</td>\n",
       "      <td>-0.540010</td>\n",
       "      <td>0.025402</td>\n",
       "      <td>-0.354083</td>\n",
       "      <td>0.115021</td>\n",
       "      <td>-1.008020</td>\n",
       "      <td>-0.065880</td>\n",
       "      <td>-0.213952</td>\n",
       "      <td>-0.231128</td>\n",
       "      <td>0</td>\n",
       "    </tr>\n",
       "    <tr>\n",
       "      <th>3</th>\n",
       "      <td>-1.246826</td>\n",
       "      <td>0.417357</td>\n",
       "      <td>-1.248313</td>\n",
       "      <td>-0.017442</td>\n",
       "      <td>-1.653973</td>\n",
       "      <td>-1.456424</td>\n",
       "      <td>-0.904829</td>\n",
       "      <td>-0.310536</td>\n",
       "      <td>-0.183401</td>\n",
       "      <td>1.209960</td>\n",
       "      <td>-0.826205</td>\n",
       "      <td>-0.721621</td>\n",
       "      <td>-0.029007</td>\n",
       "      <td>0.246074</td>\n",
       "      <td>1.608984</td>\n",
       "      <td>-2.848366</td>\n",
       "      <td>0.535311</td>\n",
       "      <td>1.978011</td>\n",
       "      <td>0.036626</td>\n",
       "      <td>-0.250067</td>\n",
       "      <td>-1.578407</td>\n",
       "      <td>0.102951</td>\n",
       "      <td>0.235378</td>\n",
       "      <td>0.903235</td>\n",
       "      <td>0</td>\n",
       "    </tr>\n",
       "    <tr>\n",
       "      <th>4</th>\n",
       "      <td>-0.662190</td>\n",
       "      <td>0.456995</td>\n",
       "      <td>-0.022496</td>\n",
       "      <td>0.263536</td>\n",
       "      <td>0.969820</td>\n",
       "      <td>-0.238760</td>\n",
       "      <td>-0.388807</td>\n",
       "      <td>0.266100</td>\n",
       "      <td>-0.155657</td>\n",
       "      <td>-0.229231</td>\n",
       "      <td>-0.074255</td>\n",
       "      <td>0.311622</td>\n",
       "      <td>1.056312</td>\n",
       "      <td>0.156108</td>\n",
       "      <td>1.134934</td>\n",
       "      <td>-0.318713</td>\n",
       "      <td>-0.169001</td>\n",
       "      <td>-0.902758</td>\n",
       "      <td>0.238548</td>\n",
       "      <td>0.292954</td>\n",
       "      <td>-0.600405</td>\n",
       "      <td>0.042976</td>\n",
       "      <td>0.142771</td>\n",
       "      <td>0.223258</td>\n",
       "      <td>0</td>\n",
       "    </tr>\n",
       "  </tbody>\n",
       "</table>\n",
       "</div>"
      ],
      "text/plain": [
       "       Time        V1        V2        V3        V4        V5        V6  \\\n",
       "0 -0.117288 -0.336543  0.863028 -0.249212 -0.189719  0.312531 -0.790163   \n",
       "1 -0.487881 -0.422881 -0.261182  0.043205 -1.409140  0.273960  0.549864   \n",
       "2  1.309339  1.001678  0.035332 -1.158292  0.863644  0.410120 -0.481832   \n",
       "3 -1.246826  0.417357 -1.248313 -0.017442 -1.653973 -1.456424 -0.904829   \n",
       "4 -0.662190  0.456995 -0.022496  0.263536  0.969820 -0.238760 -0.388807   \n",
       "\n",
       "         V7        V8        V9       V10       V11       V12       V14  \\\n",
       "0  0.590161  0.220153 -0.143255 -1.383797 -0.810490  0.133854 -1.647103   \n",
       "1  0.716220  0.029807 -1.404875  0.242972 -0.480275 -0.725803  0.356672   \n",
       "2  0.416702 -0.179803  0.050248  0.402072  0.321828  0.578480  0.873766   \n",
       "3 -0.310536 -0.183401  1.209960 -0.826205 -0.721621 -0.029007  0.246074   \n",
       "4  0.266100 -0.155657 -0.229231 -0.074255  0.311622  1.056312  0.156108   \n",
       "\n",
       "        V15       V16       V17       V18       V20       V21       V26  \\\n",
       "0 -0.994362  0.122619  1.584767  0.278174 -0.053174  0.108585  1.213758   \n",
       "1 -0.100439 -0.959409 -0.898011  1.876576 -0.754631 -0.537484  1.972748   \n",
       "2 -1.230134 -0.472006 -0.540010  0.025402 -0.354083  0.115021 -1.008020   \n",
       "3  1.608984 -2.848366  0.535311  1.978011  0.036626 -0.250067 -1.578407   \n",
       "4  1.134934 -0.318713 -0.169001 -0.902758  0.238548  0.292954 -0.600405   \n",
       "\n",
       "        V27       V28    Amount  Class  \n",
       "0  0.632811  0.590822 -0.297728      0  \n",
       "1  0.069776  0.011364  0.273638      0  \n",
       "2 -0.065880 -0.213952 -0.231128      0  \n",
       "3  0.102951  0.235378  0.903235      0  \n",
       "4  0.042976  0.142771  0.223258      0  "
      ]
     },
     "execution_count": 13,
     "metadata": {},
     "output_type": "execute_result"
    }
   ],
   "source": [
    "df_fraud_train_cut.head()"
   ]
  },
  {
   "cell_type": "markdown",
   "id": "0cf6c31c-d49f-4b89-9b69-0dc6cdef12b5",
   "metadata": {},
   "source": [
    "Separo en X e y:"
   ]
  },
  {
   "cell_type": "code",
   "execution_count": 15,
   "id": "d35679f6-6736-4276-b468-e2c7242ade49",
   "metadata": {
    "tags": []
   },
   "outputs": [],
   "source": [
    "X_train_0 = df_fraud_train_cut.drop('Class', axis=1)\n",
    "y_train_0 = df_fraud_train_cut['Class']"
   ]
  },
  {
   "cell_type": "markdown",
   "id": "5a667516-9181-4f4f-8529-fdb6df6b7cca",
   "metadata": {},
   "source": [
    "## Separación en train y validation estratificado\n",
    "\n",
    "Debido a que voy a probar muchos modelos, decido realizar una separación en train y validation, para poder medir sin tener que tocar el set de test, que se mantiene inmaculado.\n",
    "\n",
    "Además, como planeo utilizar ténicas de undersampling y oversampling, el train y val separados quedan guardados en una variable y el df original en otra, para luego reutilizar los datos del set de validación en caso de tener que realizar un undersampling u oversampling en el modelo final a medir con el test."
   ]
  },
  {
   "cell_type": "code",
   "execution_count": 16,
   "id": "c4786a54-9e2d-4d17-9be6-3bafdb950244",
   "metadata": {
    "tags": []
   },
   "outputs": [],
   "source": [
    "X_train_1, X_val, y_train_1, y_val = train_test_split(df_fraud_train_cut.drop('Class',axis=1)\n",
    "                                                  ,df_fraud_train_cut['Class']\n",
    "                                                  ,stratify=df_fraud_train_cut['Class']\n",
    "                                                  ,test_size=0.3\n",
    "                                                  ,random_state=seed)\n",
    "\n",
    "X_train_complete, X_val_complete, y_train_complete, y_val_complete = train_test_split(df_fraud_train.drop('Class',axis=1)\n",
    "                                                                                      ,df_fraud_train['Class']\n",
    "                                                                                      ,stratify=df_fraud_train['Class']\n",
    "                                                                                      ,test_size=0.3\n",
    "                                                                                      ,random_state=seed)"
   ]
  },
  {
   "cell_type": "code",
   "execution_count": 17,
   "id": "44b58133-3199-42e8-8a29-7e444327fbfb",
   "metadata": {
    "tags": []
   },
   "outputs": [
    {
     "data": {
      "text/plain": [
       "((139554, 24), (59810, 24), (139554, 30), (59810, 30))"
      ]
     },
     "execution_count": 17,
     "metadata": {},
     "output_type": "execute_result"
    }
   ],
   "source": [
    "X_train_1.shape, X_val.shape, X_train_complete.shape, X_val_complete.shape"
   ]
  },
  {
   "cell_type": "markdown",
   "id": "ddebe22d-6d14-4631-a8d6-fba486d16a08",
   "metadata": {},
   "source": [
    "***\n",
    "# Unsersampling y Oversampling\n",
    "\n",
    "Investigando en internet me he topado con una técnica que me parece interesante, que es una combinación proporcional de undersampling y oversampling. He decidido probarlo mediante la aplicación de un Pipeline en donde se aplican secuencialmente las técnicas, además de las técnicas tradicionales. Me parece una aplicación interesante para casos como el de este dataset en donde los datos están extremadamente desbalanceados, al punto de que un undersampling aplicado directamente eliminaría una cantidad demasiado alta de información, mientras que un oversampling podría generar un sesgo por la cantidad enorme de datos sintéticos a generar.\n",
    "\n",
    "Entonces, para lidiar con el desbalanceo se aplicará:\n",
    "\n",
    "1. Split estatificado (SE) --> (realizado en Notebook 02) --> Todos los demás pasos tienen este por detrás.\n",
    "2. RandomUnderSampling\n",
    "3. SMOTE OverSampling\n",
    "4. Pipeline con sampling mix --> (SMOTE OverSampling + Random UnderSampling)\n"
   ]
  },
  {
   "cell_type": "code",
   "execution_count": 18,
   "id": "d8a93cfa-5293-4c40-8e91-9d9f107600bc",
   "metadata": {
    "tags": []
   },
   "outputs": [
    {
     "data": {
      "text/plain": [
       "((139554, 24),\n",
       " Class\n",
       " 0    139313\n",
       " 1       241\n",
       " Name: count, dtype: int64,\n",
       " Class\n",
       " 0    0.998273\n",
       " 1    0.001727\n",
       " Name: proportion, dtype: float64)"
      ]
     },
     "execution_count": 18,
     "metadata": {},
     "output_type": "execute_result"
    }
   ],
   "source": [
    "# El tamaño y distribución actual del DataSet de train son los siguientes:\n",
    "X_train_1.shape,y_train_1.value_counts(),y_train_1.value_counts(normalize=True)"
   ]
  },
  {
   "cell_type": "markdown",
   "id": "4558d820-39bf-478a-8e54-6f0a81f93ec8",
   "metadata": {},
   "source": [
    "#### 1. Random Undersampling"
   ]
  },
  {
   "cell_type": "code",
   "execution_count": 33,
   "id": "bd206417-b76d-4d45-8d43-a3d8bb07dfd6",
   "metadata": {
    "tags": []
   },
   "outputs": [],
   "source": [
    "undersamp = RandomUnderSampler(sampling_strategy=0.1111111, random_state=seed)\n",
    "X_train_under, y_train_under = undersamp.fit_resample(X_train_1, y_train_1)"
   ]
  },
  {
   "cell_type": "code",
   "execution_count": 34,
   "id": "4f6728dd-8a52-41f4-8674-4a9da6884549",
   "metadata": {
    "tags": []
   },
   "outputs": [
    {
     "data": {
      "text/plain": [
       "((2410, 24),\n",
       " Class\n",
       " 0    2169\n",
       " 1     241\n",
       " Name: count, dtype: int64,\n",
       " Class\n",
       " 0    0.9\n",
       " 1    0.1\n",
       " Name: proportion, dtype: float64)"
      ]
     },
     "execution_count": 34,
     "metadata": {},
     "output_type": "execute_result"
    }
   ],
   "source": [
    "X_train_under.shape,y_train_under.value_counts(),y_train_under.value_counts(normalize=True)"
   ]
  },
  {
   "cell_type": "code",
   "execution_count": 35,
   "id": "7662016b-49dd-4b87-9b68-8d315a0c561f",
   "metadata": {
    "tags": []
   },
   "outputs": [
    {
     "data": {
      "text/plain": [
       "0.9827306992275392"
      ]
     },
     "execution_count": 35,
     "metadata": {},
     "output_type": "execute_result"
    }
   ],
   "source": [
    "1 - X_train_under.shape[0] / X_train_1.shape[0]"
   ]
  },
  {
   "cell_type": "markdown",
   "id": "8c6053bc-0d45-4832-a16b-fc7172705a38",
   "metadata": {},
   "source": [
    "Logramos el cometido, el dataset está balanceado, pero solo nos quedamos con solo 2400 datos, es decir que perdimos el 98% de nuestro dataset, \n",
    "dato que es al menos recalcable. Habrá que ver como funcionan los modelos con una reducción tan grande del dataset."
   ]
  },
  {
   "cell_type": "markdown",
   "id": "45a0a8ca-b119-4639-8de3-dc624e4e5b8c",
   "metadata": {},
   "source": [
    "#### 2. SMOTE OverSampling"
   ]
  },
  {
   "cell_type": "code",
   "execution_count": 36,
   "id": "c24333fc-0302-4a6c-b7d3-6efda57c89e2",
   "metadata": {
    "tags": []
   },
   "outputs": [],
   "source": [
    "oversamp = SMOTE(sampling_strategy=0.25, random_state=seed)\n",
    "X_train_over, y_train_over = oversamp.fit_resample(X_train_1, y_train_1)"
   ]
  },
  {
   "cell_type": "code",
   "execution_count": 37,
   "id": "214cb8ed-bd51-481b-b4a3-21acb5f1382c",
   "metadata": {
    "tags": []
   },
   "outputs": [
    {
     "data": {
      "text/plain": [
       "((174141, 24),\n",
       " Class\n",
       " 0    139313\n",
       " 1     34828\n",
       " Name: count, dtype: int64,\n",
       " Class\n",
       " 0    0.800001\n",
       " 1    0.199999\n",
       " Name: proportion, dtype: float64)"
      ]
     },
     "execution_count": 37,
     "metadata": {},
     "output_type": "execute_result"
    }
   ],
   "source": [
    "X_train_over.shape,y_train_over.value_counts(),y_train_over.value_counts(normalize=True)"
   ]
  },
  {
   "cell_type": "code",
   "execution_count": 38,
   "id": "1d33051e-df02-4d8e-838f-2aaef3e059e5",
   "metadata": {
    "tags": []
   },
   "outputs": [
    {
     "data": {
      "text/plain": [
       "34587"
      ]
     },
     "execution_count": 38,
     "metadata": {},
     "output_type": "execute_result"
    }
   ],
   "source": [
    "y_train_over.value_counts()[1] - y_train_1.value_counts()[1]"
   ]
  },
  {
   "cell_type": "code",
   "execution_count": 39,
   "id": "bb7d3f9e-7047-4125-90a8-5ea272bc984c",
   "metadata": {
    "tags": []
   },
   "outputs": [
    {
     "data": {
      "text/plain": [
       "0.24783954598220043"
      ]
     },
     "execution_count": 39,
     "metadata": {},
     "output_type": "execute_result"
    }
   ],
   "source": [
    "(y_train_over.value_counts()[1] - y_train_1.value_counts()[1]) / y_train_1.size"
   ]
  },
  {
   "cell_type": "markdown",
   "id": "d410f90b-1342-4975-8938-c0fcc7b1636d",
   "metadata": {},
   "source": [
    "Con este método generamos 34.5k nuevos registros, es decir que agrandamos nuestro dataset de manera sintética casi un 25%, lo cual parece bastante,\n",
    "pero habrá que comprobarlo con los resultados del modelo."
   ]
  },
  {
   "cell_type": "markdown",
   "id": "c856ab3f-30c4-4773-85e9-cf80d686205d",
   "metadata": {},
   "source": [
    "#### 3. Mix con Pipeline (SMOTE OverSampling + UnderSampling):"
   ]
  },
  {
   "cell_type": "code",
   "execution_count": 40,
   "id": "49778472-e63e-448d-9210-b72c011dfc08",
   "metadata": {
    "tags": []
   },
   "outputs": [],
   "source": [
    "over = SMOTE(sampling_strategy=0.2, random_state=seed)\n",
    "under = RandomUnderSampler(sampling_strategy=0.25, random_state=seed) # Voy a buscar una proporción de aprox 60%-40%\n",
    "steps = [('o', over), ('u', under)]\n",
    "pipeline = Pipeline(steps=steps)\n",
    "\n",
    "X_train_mix, y_train_mix = pipeline.fit_resample(X_train_1, y_train_1)"
   ]
  },
  {
   "cell_type": "code",
   "execution_count": 41,
   "id": "cc92b167-6f19-479b-a46d-f4649bbd359a",
   "metadata": {
    "tags": []
   },
   "outputs": [
    {
     "data": {
      "text/plain": [
       "((139310, 24),\n",
       " Class\n",
       " 0    111448\n",
       " 1     27862\n",
       " Name: count, dtype: int64,\n",
       " Class\n",
       " 0    0.8\n",
       " 1    0.2\n",
       " Name: proportion, dtype: float64)"
      ]
     },
     "execution_count": 41,
     "metadata": {},
     "output_type": "execute_result"
    }
   ],
   "source": [
    "X_train_mix.shape,y_train_mix.value_counts(),y_train_mix.value_counts(normalize=True)"
   ]
  },
  {
   "cell_type": "markdown",
   "id": "b6e977f4-81e0-4bf8-8234-750dc20a3467",
   "metadata": {
    "tags": []
   },
   "source": [
    "El tamaño del dataset no es minúsculo ni se expandió de manera tan abrupta, sino que casi que se mantuvo en su tamaño gracias al mix aplicado, obteniendo una proporción un poco más equilibrada de clases, pero sin llegar a extremos irreales como sería llevarla al 50%-50%."
   ]
  },
  {
   "cell_type": "code",
   "execution_count": 42,
   "id": "00381f3a-9341-45a7-a54b-706423323ba3",
   "metadata": {
    "tags": []
   },
   "outputs": [
    {
     "data": {
      "text/html": [
       "<div>\n",
       "<style scoped>\n",
       "    .dataframe tbody tr th:only-of-type {\n",
       "        vertical-align: middle;\n",
       "    }\n",
       "\n",
       "    .dataframe tbody tr th {\n",
       "        vertical-align: top;\n",
       "    }\n",
       "\n",
       "    .dataframe thead th {\n",
       "        text-align: right;\n",
       "    }\n",
       "</style>\n",
       "<table border=\"1\" class=\"dataframe\">\n",
       "  <thead>\n",
       "    <tr style=\"text-align: right;\">\n",
       "      <th></th>\n",
       "      <th>Time</th>\n",
       "      <th>V1</th>\n",
       "      <th>V2</th>\n",
       "      <th>V3</th>\n",
       "      <th>V4</th>\n",
       "      <th>V5</th>\n",
       "      <th>V6</th>\n",
       "      <th>V7</th>\n",
       "      <th>V8</th>\n",
       "      <th>V9</th>\n",
       "      <th>V10</th>\n",
       "      <th>V11</th>\n",
       "      <th>V12</th>\n",
       "      <th>V14</th>\n",
       "      <th>V15</th>\n",
       "      <th>V16</th>\n",
       "      <th>V17</th>\n",
       "      <th>V18</th>\n",
       "      <th>V20</th>\n",
       "      <th>V21</th>\n",
       "      <th>V26</th>\n",
       "      <th>V27</th>\n",
       "      <th>V28</th>\n",
       "      <th>Amount</th>\n",
       "    </tr>\n",
       "  </thead>\n",
       "  <tbody>\n",
       "    <tr>\n",
       "      <th>19281</th>\n",
       "      <td>0.802126</td>\n",
       "      <td>-1.042735</td>\n",
       "      <td>0.244886</td>\n",
       "      <td>-0.966624</td>\n",
       "      <td>-1.234731</td>\n",
       "      <td>1.151233</td>\n",
       "      <td>-0.564022</td>\n",
       "      <td>0.278664</td>\n",
       "      <td>0.456442</td>\n",
       "      <td>-2.428395</td>\n",
       "      <td>0.084983</td>\n",
       "      <td>-0.534362</td>\n",
       "      <td>0.365575</td>\n",
       "      <td>1.217766</td>\n",
       "      <td>-1.443523</td>\n",
       "      <td>-1.787235</td>\n",
       "      <td>-0.195865</td>\n",
       "      <td>1.884493</td>\n",
       "      <td>-0.674285</td>\n",
       "      <td>-0.115771</td>\n",
       "      <td>2.394393</td>\n",
       "      <td>-0.142485</td>\n",
       "      <td>-0.995153</td>\n",
       "      <td>-0.290359</td>\n",
       "    </tr>\n",
       "    <tr>\n",
       "      <th>59809</th>\n",
       "      <td>-0.936422</td>\n",
       "      <td>0.422508</td>\n",
       "      <td>-0.230290</td>\n",
       "      <td>0.132900</td>\n",
       "      <td>1.087099</td>\n",
       "      <td>-0.263138</td>\n",
       "      <td>-0.098077</td>\n",
       "      <td>0.207451</td>\n",
       "      <td>-0.021007</td>\n",
       "      <td>0.319540</td>\n",
       "      <td>-0.173417</td>\n",
       "      <td>-0.611999</td>\n",
       "      <td>0.254805</td>\n",
       "      <td>0.219011</td>\n",
       "      <td>-0.016560</td>\n",
       "      <td>-0.768388</td>\n",
       "      <td>0.352241</td>\n",
       "      <td>-1.048262</td>\n",
       "      <td>0.166213</td>\n",
       "      <td>-0.005153</td>\n",
       "      <td>-0.681710</td>\n",
       "      <td>0.009914</td>\n",
       "      <td>0.130912</td>\n",
       "      <td>0.371116</td>\n",
       "    </tr>\n",
       "    <tr>\n",
       "      <th>64563</th>\n",
       "      <td>-1.499274</td>\n",
       "      <td>0.279161</td>\n",
       "      <td>-0.814592</td>\n",
       "      <td>0.503698</td>\n",
       "      <td>0.388783</td>\n",
       "      <td>-0.925390</td>\n",
       "      <td>0.115509</td>\n",
       "      <td>-0.383734</td>\n",
       "      <td>0.048806</td>\n",
       "      <td>1.830109</td>\n",
       "      <td>-0.554407</td>\n",
       "      <td>1.648062</td>\n",
       "      <td>-1.930293</td>\n",
       "      <td>1.524245</td>\n",
       "      <td>-0.665711</td>\n",
       "      <td>0.800923</td>\n",
       "      <td>0.181376</td>\n",
       "      <td>1.079191</td>\n",
       "      <td>0.740198</td>\n",
       "      <td>0.200146</td>\n",
       "      <td>2.153764</td>\n",
       "      <td>-0.330251</td>\n",
       "      <td>0.155216</td>\n",
       "      <td>1.037116</td>\n",
       "    </tr>\n",
       "    <tr>\n",
       "      <th>44068</th>\n",
       "      <td>-1.132599</td>\n",
       "      <td>0.566166</td>\n",
       "      <td>-0.585811</td>\n",
       "      <td>0.376198</td>\n",
       "      <td>-0.860424</td>\n",
       "      <td>-0.977558</td>\n",
       "      <td>-0.416424</td>\n",
       "      <td>-0.530866</td>\n",
       "      <td>0.056861</td>\n",
       "      <td>2.102781</td>\n",
       "      <td>-1.123543</td>\n",
       "      <td>-1.175816</td>\n",
       "      <td>-0.120514</td>\n",
       "      <td>-0.040533</td>\n",
       "      <td>1.205026</td>\n",
       "      <td>-0.406097</td>\n",
       "      <td>-0.009993</td>\n",
       "      <td>0.346967</td>\n",
       "      <td>0.025494</td>\n",
       "      <td>-0.093002</td>\n",
       "      <td>-0.018987</td>\n",
       "      <td>0.052114</td>\n",
       "      <td>0.096601</td>\n",
       "      <td>0.039037</td>\n",
       "    </tr>\n",
       "    <tr>\n",
       "      <th>47780</th>\n",
       "      <td>-0.532796</td>\n",
       "      <td>-0.275483</td>\n",
       "      <td>0.548249</td>\n",
       "      <td>1.035582</td>\n",
       "      <td>-0.131305</td>\n",
       "      <td>0.170406</td>\n",
       "      <td>-0.096828</td>\n",
       "      <td>0.403764</td>\n",
       "      <td>0.178947</td>\n",
       "      <td>-0.622695</td>\n",
       "      <td>-0.173125</td>\n",
       "      <td>1.520732</td>\n",
       "      <td>0.828724</td>\n",
       "      <td>0.345316</td>\n",
       "      <td>0.414794</td>\n",
       "      <td>0.107551</td>\n",
       "      <td>-0.440555</td>\n",
       "      <td>-0.390619</td>\n",
       "      <td>0.137101</td>\n",
       "      <td>-0.190530</td>\n",
       "      <td>0.173139</td>\n",
       "      <td>0.680223</td>\n",
       "      <td>0.317926</td>\n",
       "      <td>-0.337456</td>\n",
       "    </tr>\n",
       "  </tbody>\n",
       "</table>\n",
       "</div>"
      ],
      "text/plain": [
       "           Time        V1        V2        V3        V4        V5        V6  \\\n",
       "19281  0.802126 -1.042735  0.244886 -0.966624 -1.234731  1.151233 -0.564022   \n",
       "59809 -0.936422  0.422508 -0.230290  0.132900  1.087099 -0.263138 -0.098077   \n",
       "64563 -1.499274  0.279161 -0.814592  0.503698  0.388783 -0.925390  0.115509   \n",
       "44068 -1.132599  0.566166 -0.585811  0.376198 -0.860424 -0.977558 -0.416424   \n",
       "47780 -0.532796 -0.275483  0.548249  1.035582 -0.131305  0.170406 -0.096828   \n",
       "\n",
       "             V7        V8        V9       V10       V11       V12       V14  \\\n",
       "19281  0.278664  0.456442 -2.428395  0.084983 -0.534362  0.365575  1.217766   \n",
       "59809  0.207451 -0.021007  0.319540 -0.173417 -0.611999  0.254805  0.219011   \n",
       "64563 -0.383734  0.048806  1.830109 -0.554407  1.648062 -1.930293  1.524245   \n",
       "44068 -0.530866  0.056861  2.102781 -1.123543 -1.175816 -0.120514 -0.040533   \n",
       "47780  0.403764  0.178947 -0.622695 -0.173125  1.520732  0.828724  0.345316   \n",
       "\n",
       "            V15       V16       V17       V18       V20       V21       V26  \\\n",
       "19281 -1.443523 -1.787235 -0.195865  1.884493 -0.674285 -0.115771  2.394393   \n",
       "59809 -0.016560 -0.768388  0.352241 -1.048262  0.166213 -0.005153 -0.681710   \n",
       "64563 -0.665711  0.800923  0.181376  1.079191  0.740198  0.200146  2.153764   \n",
       "44068  1.205026 -0.406097 -0.009993  0.346967  0.025494 -0.093002 -0.018987   \n",
       "47780  0.414794  0.107551 -0.440555 -0.390619  0.137101 -0.190530  0.173139   \n",
       "\n",
       "            V27       V28    Amount  \n",
       "19281 -0.142485 -0.995153 -0.290359  \n",
       "59809  0.009914  0.130912  0.371116  \n",
       "64563 -0.330251  0.155216  1.037116  \n",
       "44068  0.052114  0.096601  0.039037  \n",
       "47780  0.680223  0.317926 -0.337456  "
      ]
     },
     "execution_count": 42,
     "metadata": {},
     "output_type": "execute_result"
    }
   ],
   "source": [
    "X_train_mix.head()"
   ]
  },
  {
   "cell_type": "code",
   "execution_count": 43,
   "id": "0b3e4421-b97c-40d8-b71d-eaad81db4d68",
   "metadata": {
    "tags": []
   },
   "outputs": [],
   "source": [
    "# restauro el index:\n",
    "X_train_mix = X_train_mix.reset_index(drop=True)\n",
    "y_train_mix = y_train_mix.reset_index(drop=True)"
   ]
  },
  {
   "cell_type": "markdown",
   "id": "19c51eab-b547-48ff-964c-1d05fc1850a8",
   "metadata": {},
   "source": [
    "## Resumen del tratamiento previo al modelado\n",
    "\n",
    "Una vez que he importado todos los datasets, generado sets de validación para comparar los modelos y agregar procesos de oversampling y undersampling, voy a proceder a la parte del modelado.\n",
    "\n",
    "El proceso de comentará a continuación en el siguiente apartado, pero antes de continuar voy a listar los datasets generados con los que voy a trabajar:\n",
    "\n",
    "1. Set sin recortes\n",
    "2. Set procesado con variables seleccionadas (en total 6 menos que el original importado gracias al Feature Selection)\n",
    "3. Set con Undersampling\n",
    "4. Set con Oversampling\n",
    "5. Set con mix Over y Under sampling\n",
    "\n",
    "Aunque parecen muchos, son bastante similares entre si y la idea es realizar una validación numérica de con cual de ellos se obtendrían a priori mejores resultados, para no basarnos simplemente en intuición a la hora de buscar la optimización del uso de los datos disponibles en el modelo que elijamos."
   ]
  },
  {
   "cell_type": "markdown",
   "id": "13d9049d-8145-483c-a41d-32ba4c3ece06",
   "metadata": {},
   "source": [
    "***\n",
    "\n",
    "# Modelado\n",
    "\n",
    "En este apartado de trataran los distintos modelos elegidos con los datasets disponibles. La idea es llegar al final del notebook con la elección tanto del modelo a utilizar, del dataset que mejor se adapte al mismo y de los hiperparámetros que optimizen los resultados buscados. Para lograrlo realizaré 3 pasos:\n",
    "\n",
    "1. Comparativa de modelos: Mediante un pipeline se probarán todos los modelos sin ajustar hiperparámetros, solo con sus valores por defecto, para ver cual es el que mejores resultados base proporciona.\n",
    "\n",
    "2. Comparativa de datasets: Con el modelo elegido se procederá a medir cual es el set de datos que mejores métricas obtiene.\n",
    "\n",
    "3. Búsqueda de hiperparámetros: Finalmente se realizará una búsqueda de los hiperparámetros que optimizen al modelo elegido en el dataset elegido mediante una Validación Cruzada."
   ]
  },
  {
   "cell_type": "markdown",
   "id": "86b2de22-2c2b-4471-97f5-486b658776e9",
   "metadata": {},
   "source": [
    "## Modelo Base:\n",
    "\n",
    "En primer lugar voy a realizar un modelo sin machine learning, en donde simplemente se asignará el valor de la clase mayoritaria a todos los resultados. En este caso, consideraremos que ninguna aplicación será fraudulenta. Esto es lo que haríamos si no pudiesemos aplicar ningún modelo."
   ]
  },
  {
   "cell_type": "markdown",
   "id": "0ba8c5b7-c71a-4277-9254-1273b582fdfc",
   "metadata": {
    "tags": []
   },
   "source": [
    "He generado una función propia que me permite determinar la clase mayoritaria y en base a eso generar las predicciones de un modelo base para mi análisis:"
   ]
  },
  {
   "cell_type": "code",
   "execution_count": 44,
   "id": "b7203565-5b57-4d38-9144-a3b6862b390a",
   "metadata": {
    "tags": []
   },
   "outputs": [],
   "source": [
    "y_pred_base = fr.y_pred_base_model(y_train_1,X_val)"
   ]
  },
  {
   "cell_type": "code",
   "execution_count": 45,
   "id": "f4640115-aef0-458e-9b55-0aa84309c79c",
   "metadata": {
    "tags": []
   },
   "outputs": [
    {
     "data": {
      "text/plain": [
       "(array([0, 0, 0, ..., 0, 0, 0], dtype=int64), (59810,))"
      ]
     },
     "execution_count": 45,
     "metadata": {},
     "output_type": "execute_result"
    }
   ],
   "source": [
    "y_pred_base, y_pred_base.shape"
   ]
  },
  {
   "cell_type": "markdown",
   "id": "5dd29469-371d-4839-a1ed-782156826872",
   "metadata": {
    "tags": []
   },
   "source": [
    "Aplico una función propia generada para resaltar las métricas que considero importantes a la hora de evaluar los modelos:"
   ]
  },
  {
   "cell_type": "code",
   "execution_count": 46,
   "id": "eaf8bd76-8123-4ac2-a203-c1dafae80250",
   "metadata": {
    "tags": []
   },
   "outputs": [
    {
     "name": "stdout",
     "output_type": "stream",
     "text": [
      "\n",
      "Accuracy: 0.99828\n",
      "Balanced Accuracy: 0.50000\n",
      "\u001b[1mF2 score: 0.00000\u001b[0m\n",
      "\u001b[1mF1 score: 0.00000\u001b[0m\n",
      "Precision: 0.00000\n",
      "Recall: 0.00000\n",
      "\n",
      "Confusion Matrix:\n",
      "[[59707     0]\n",
      " [  103     0]]\n"
     ]
    }
   ],
   "source": [
    "fr.metrics_summ(y_val, y_pred_base)"
   ]
  },
  {
   "cell_type": "markdown",
   "id": "16d08f7e-ffd9-48fa-b5a0-9120a758c7e7",
   "metadata": {
    "tags": []
   },
   "source": [
    "Aplico una función propia creada justamente para graficar la matriz de confusión con los valores brutos y también en su versión normalizada:"
   ]
  },
  {
   "cell_type": "code",
   "execution_count": 48,
   "id": "774f4e0b-df6e-4300-b101-33a7fda409a0",
   "metadata": {
    "tags": []
   },
   "outputs": [
    {
     "data": {
      "image/png": "[encoded data removed]",
      "text/plain": [
       "<Figure size 2000x600 with 4 Axes>"
      ]
     },
     "metadata": {},
     "output_type": "display_data"
    }
   ],
   "source": [
    "fr.plot_cmatrix(y_val, y_pred_base)"
   ]
  },
  {
   "cell_type": "code",
   "execution_count": 49,
   "id": "6b4691f9-042b-412d-9503-d8a7c350d905",
   "metadata": {
    "tags": []
   },
   "outputs": [
    {
     "data": {
      "image/png": "[encoded data removed]",
      "text/plain": [
       "<Figure size 640x480 with 2 Axes>"
      ]
     },
     "metadata": {},
     "output_type": "display_data"
    }
   ],
   "source": [
    "# Además, también voy a graficar una confusion matrix con los porcentajes sobre el total:\n",
    "cf_matrix = confusion_matrix(y_val,y_pred_base)\n",
    "cf_matrix_perc = cf_matrix/np.sum(cf_matrix)\n",
    "\n",
    "heatmap = sns.heatmap(cf_matrix_perc, annot=True, fmt='.2%', cmap='Blues', linewidth=2)\n",
    "plt.xlabel('Predictions', fontdict={'fontname':'Montserrat'})\n",
    "plt.ylabel('Reality', fontdict={'fontname':'Montserrat'})\n",
    "plt.title('Confusion Matrix - Base Model', fontdict={'fontname':'Montserrat', 'fontsize':18})\n",
    "plt.show()"
   ]
  },
  {
   "cell_type": "markdown",
   "id": "0e4c9729-ef94-4f4b-a363-3760addc909c",
   "metadata": {},
   "source": [
    "Una vez contamos con el modelo base, procedemos a realizar la comparación de modelos con Machine Learning"
   ]
  },
  {
   "cell_type": "markdown",
   "id": "e88a3876-bb6d-4f3f-9899-1f8c622b82a4",
   "metadata": {},
   "source": [
    "***\n",
    "# 1. Comparación de Modelos\n",
    "\n",
    "A continuación ejecutaré un pipeline con algunos de los modelos de clasificación \n",
    "\n"
   ]
  },
  {
   "cell_type": "markdown",
   "id": "43976e19-2a56-47a3-8e4d-280afa392404",
   "metadata": {},
   "source": [
    "## Logistic Regression\n",
    "\n",
    "Antes de realizar el pipeline, voy a ejecutar un modelo, en este caso la regresión logística para probar que todo funcione correctamente y los datos procesados sean bien recibidos por los objetos de SciKitLearn.\n",
    "\n",
    "Este es un modelo de tipo lineal (GLM) que permite obtener resultados adecuados para problemas de clasificación binara, por lo que se adapta muy bien a nuestro objetivo a priori."
   ]
  },
  {
   "cell_type": "code",
   "execution_count": 50,
   "id": "c876474c-6279-4ae0-a060-35658f503b38",
   "metadata": {
    "tags": []
   },
   "outputs": [
    {
     "name": "stdout",
     "output_type": "stream",
     "text": [
      "\n",
      "Accuracy: 0.99911\n",
      "Balanced Accuracy: 0.79118\n",
      "\u001b[1mF2 score: 0.62241\u001b[0m\n",
      "\u001b[1mF1 score: 0.69364\u001b[0m\n",
      "Precision: 0.85714\n",
      "Recall: 0.58252\n",
      "\n",
      "Confusion Matrix:\n",
      "[[59697    10]\n",
      " [   43    60]]\n",
      "CPU times: total: 953 ms\n",
      "Wall time: 739 ms\n"
     ]
    }
   ],
   "source": [
    "%%time\n",
    "lr = LogisticRegression(C=1)\n",
    "lr.fit(X_train_1, y_train_1)\n",
    "\n",
    "y_pred_lr = lr.predict(X_val)\n",
    "\n",
    "fr.metrics_summ(y_val, y_pred_lr)"
   ]
  },
  {
   "cell_type": "markdown",
   "id": "ad03b6a5-a97b-4b78-b961-0ec7319cdf30",
   "metadata": {},
   "source": [
    "## Support Vector Machine\n",
    "\n",
    "Este modelo es conocido por ser especialmente demandante computacionalmente hablando, por lo que en este caso procederé a probarlo con el dataset más pequeño posible. Debido a su alto coste computacional y a que no tiene un rendimiento tan bueno a priori como otros modelos que probaremos a continuación, considero adecuado probarlo con un dataset menor.\n",
    "\n",
    "En vez de reducir los datos a un porcentaje, voy a aprovechar que ya poseo un dataset más pequeño, que en este caso es el que ha pasado por el proceso de Undersampling.\n",
    "\n",
    "###### *Nota: Es posible que este modelo obtenga mejores métricas debido a que está trabajando con un dataset balanceado. De igual manera, será comparado vs el mejor modelo elegido comprobando sus mejores métricas en varios DF de prueba. Por lo que, en caso de obtener buenos resultados, deberán compararse vs el otro modelo elegido en el mismo dataset con undersampling.*"
   ]
  },
  {
   "cell_type": "code",
   "execution_count": 51,
   "id": "b871ce8c-e53a-4fe0-b2ce-e4939d12d257",
   "metadata": {
    "tags": []
   },
   "outputs": [
    {
     "name": "stdout",
     "output_type": "stream",
     "text": [
      "\n",
      "Accuracy: 0.99818\n",
      "Balanced Accuracy: 0.91186\n",
      "\u001b[1mF2 score: 0.72279\u001b[0m\n",
      "\u001b[1mF1 score: 0.60932\u001b[0m\n",
      "Precision: 0.48295\n",
      "Recall: 0.82524\n",
      "\n",
      "Confusion Matrix:\n",
      "[[59616    91]\n",
      " [   18    85]]\n",
      "CPU times: total: 391 ms\n",
      "Wall time: 1.62 s\n"
     ]
    }
   ],
   "source": [
    "%%time\n",
    "svc = SVC(kernel=\"rbf\", degree=3)\n",
    "svc.fit(X_train_under, y_train_under)\n",
    "\n",
    "y_pred_svm = svc.predict(X_val)\n",
    "\n",
    "fr.metrics_summ(y_val, y_pred_svm)"
   ]
  },
  {
   "cell_type": "markdown",
   "id": "51ab1f43-7eda-4d50-87f9-af6eb98ce131",
   "metadata": {},
   "source": [
    "Loa resultados no son malos, pero no son los mejores que podríamos obtener."
   ]
  },
  {
   "cell_type": "markdown",
   "id": "4f2db4ec-c7d2-4af0-8f12-a7f1d25f2128",
   "metadata": {},
   "source": [
    "## Pipeline con los demás modelos\n",
    "\n",
    "Ahora si procedo a probar el resto de los modelos en un pipeline:\n",
    "\n",
    "* DummyClassifier: Incluyo lo que sería un modelo base de SKLearn\n",
    "* GaussianNB: El clasificador de Naive Bayes, basado en las teorías de probabilidad Gaussianas, un tipo de modelo bastante eficiente en aprendizaje supervisado.\n",
    "* Decision Tree Classifier: Árbol de decisión simple\n",
    "* Random Forest Classifier: Emsamblaje de muchos clasificadores de árbol de decisión, en representación de los modelos de Bagging\n",
    "* XGBoost Classifier: Representante de los modelos de boosting, uno de los más efectivos actualmente en ML.\n",
    "* LightGBM Classifier: También representante de los modelos de boosting, de mis favoritos actualmente debido a su eficiencia y sobre todo a su gran optimización en cuanto a los tiempos de procesamiento. "
   ]
  },
  {
   "cell_type": "code",
   "execution_count": 52,
   "id": "97c155a4-6896-4e38-8b98-b7ee2ac2fc48",
   "metadata": {},
   "outputs": [
    {
     "name": "stdout",
     "output_type": "stream",
     "text": [
      "\u001b[1mDummyClassifier()\u001b[0m\n",
      "\n",
      "Accuracy: 0.99828\n",
      "Balanced Accuracy: 0.50000\n",
      "\u001b[1mF2 score: 0.00000\u001b[0m\n",
      "\u001b[1mF1 score: 0.00000\u001b[0m\n",
      "Precision: 0.00000\n",
      "Recall: 0.00000\n",
      "\n",
      "Confusion Matrix:\n",
      "[[59707     0]\n",
      " [  103     0]]\n",
      "____________________________________________________________________________________________\n",
      "\u001b[1mGaussianNB()\u001b[0m\n",
      "\n",
      "Accuracy: 0.97895\n",
      "Balanced Accuracy: 0.90223\n",
      "\u001b[1mF2 score: 0.24453\u001b[0m\n",
      "\u001b[1mF1 score: 0.11896\u001b[0m\n",
      "Precision: 0.06410\n",
      "Recall: 0.82524\n",
      "\n",
      "Confusion Matrix:\n",
      "[[58466  1241]\n",
      " [   18    85]]\n",
      "____________________________________________________________________________________________\n",
      "\u001b[1mDecisionTreeClassifier()\u001b[0m\n",
      "\n",
      "Accuracy: 0.99921\n",
      "Balanced Accuracy: 0.88815\n",
      "\u001b[1mF2 score: 0.77519\u001b[0m\n",
      "\u001b[1mF1 score: 0.77295\u001b[0m\n",
      "Precision: 0.76923\n",
      "Recall: 0.77670\n",
      "\n",
      "Confusion Matrix:\n",
      "[[59683    24]\n",
      " [   23    80]]\n",
      "____________________________________________________________________________________________\n",
      "\u001b[1mGradientBoostingClassifier()\u001b[0m\n",
      "\n",
      "Accuracy: 0.99873\n",
      "Balanced Accuracy: 0.66499\n",
      "\u001b[1mF2 score: 0.37528\u001b[0m\n",
      "\u001b[1mF1 score: 0.47222\u001b[0m\n",
      "Precision: 0.82927\n",
      "Recall: 0.33010\n",
      "\n",
      "Confusion Matrix:\n",
      "[[59700     7]\n",
      " [   69    34]]\n",
      "____________________________________________________________________________________________\n",
      "\u001b[1mRandomForestClassifier()\u001b[0m\n",
      "\n",
      "Accuracy: 0.99957\n",
      "Balanced Accuracy: 0.89317\n",
      "\u001b[1mF2 score: 0.81489\u001b[0m\n",
      "\u001b[1mF1 score: 0.86170\u001b[0m\n",
      "Precision: 0.95294\n",
      "Recall: 0.78641\n",
      "\n",
      "Confusion Matrix:\n",
      "[[59703     4]\n",
      " [   22    81]]\n",
      "____________________________________________________________________________________________\n",
      "\u001b[1mXGBClassifier(base_score=None, booster=None, callbacks=None,\n",
      "              colsample_bylevel=None, colsample_bynode=None,\n",
      "              colsample_bytree=None, early_stopping_rounds=None,\n",
      "              enable_categorical=False, eval_metric=None, feature_types=None,\n",
      "              gamma=None, gpu_id=None, grow_policy=None, importance_type=None,\n",
      "              interaction_constraints=None, learning_rate=None, max_bin=None,\n",
      "              max_cat_threshold=None, max_cat_to_onehot=None,\n",
      "              max_delta_step=None, max_depth=None, max_leaves=None,\n",
      "              min_child_weight=None, missing=nan, monotone_constraints=None,\n",
      "              n_estimators=100, n_jobs=None, num_parallel_tree=None,\n",
      "              predictor=None, random_state=None, ...)\u001b[0m\n",
      "\n",
      "Accuracy: 0.99958\n",
      "Balanced Accuracy: 0.90287\n",
      "\u001b[1mF2 score: 0.83000\u001b[0m\n",
      "\u001b[1mF1 score: 0.86911\u001b[0m\n",
      "Precision: 0.94318\n",
      "Recall: 0.80583\n",
      "\n",
      "Confusion Matrix:\n",
      "[[59702     5]\n",
      " [   20    83]]\n",
      "____________________________________________________________________________________________\n",
      "[LightGBM] [Info] Number of positive: 241, number of negative: 139313\n",
      "[LightGBM] [Info] Auto-choosing row-wise multi-threading, the overhead of testing was 0.003686 seconds.\n",
      "You can set `force_row_wise=true` to remove the overhead.\n",
      "And if memory is not enough, you can set `force_col_wise=true`.\n",
      "[LightGBM] [Info] Total Bins 6120\n",
      "[LightGBM] [Info] Number of data points in the train set: 139554, number of used features: 24\n",
      "[LightGBM] [Info] [binary:BoostFromScore]: pavg=0.001727 -> initscore=-6.359682\n",
      "[LightGBM] [Info] Start training from score -6.359682\n",
      "\u001b[1mLGBMClassifier()\u001b[0m\n",
      "\n",
      "Accuracy: 0.99674\n",
      "Balanced Accuracy: 0.79968\n",
      "\u001b[1mF2 score: 0.49363\u001b[0m\n",
      "\u001b[1mF1 score: 0.38871\u001b[0m\n",
      "Precision: 0.28704\n",
      "Recall: 0.60194\n",
      "\n",
      "Confusion Matrix:\n",
      "[[59553   154]\n",
      " [   41    62]]\n",
      "____________________________________________________________________________________________\n",
      "CPU times: total: 4min 3s\n",
      "Wall time: 11min 36s\n"
     ]
    }
   ],
   "source": [
    "%%time\n",
    "\n",
    "classifiers = [\n",
    "    DummyClassifier() # incluyo lo que sería un modelo base de SKLearn\n",
    "    ,GaussianNB() # Clasificador de NaiveBayes\n",
    "    ,DecisionTreeClassifier() # Árbol de decisión simple\n",
    "    ,GradientBoostingClassifier() # Modelo boosting\n",
    "    ,RandomForestClassifier() # Random Forest en representación de modelos de Bagging\n",
    "    ,XGBClassifier() # Modelo boosting\n",
    "    ,LGBMClassifier() # Modelo boosting\n",
    "    ]\n",
    "\n",
    "for classifier in classifiers:\n",
    "    pipe = Pipeline(steps=[('classifier', classifier)])\n",
    "    pipe.fit(X_train_1, y_train_1)   \n",
    "    y_pred_pipe = pipe.predict(X_val)\n",
    "    print(f'\\033[1m{classifier}\\033[0m')\n",
    "    fr.metrics_summ(y_val, y_pred_pipe)\n",
    "    print(\"____________________________________________________________________________________________\")\n"
   ]
  },
  {
   "cell_type": "markdown",
   "id": "f922d14f-0d8f-4999-b30d-37189fc455e0",
   "metadata": {},
   "source": [
    "## Modelo a seleccionar\n",
    "\n",
    "Una vez ejecutados los modelos de clasificación, procederé a realizar la elección final del modelo con el que trabajaré.\n",
    "\n",
    "De entrada quedan descartados modelos como el Dummy por obvias razones y los modelos de Regresión Logística y SVM, por motivos mencionados anteriormente. Además, se descartan el Gradient Boosting y GaussianNB, debido a que sus métricas y rendimiento no son tan buenas como otros modelos a mencionar.\n",
    "\n",
    "Entre otros posibles elegidos también he de descartar el modelo de Decision Tree simple, ya que no tiene malas métricas, pero no cuenta con una capacidad de mejorar mucho como si lo harían otros modelos más complejos también basados en árboles, como lo pueden ser tanto el Random Forest como el XGBoost y el LightGBM, modelos que dependen en parte de sus hiperparámetros y tienen potencial de mejora.\n",
    "\n",
    "El modelo con mejores métricas ha sido el XGBoost, por lo que lo eligiré por sobre el Random Forest, que también dio buenos resultados. Además, a pesar de que el LightGBM no haya dado grandes resultados sin hiperparámetros y con el dataset general, también lo seleccionaré para las siguientes pruebas, debido a que tiene un potencial similar al del XGBoost, pero con un desempeño mejor en cuanto a costo computacional se refiere."
   ]
  },
  {
   "cell_type": "markdown",
   "id": "23412e8f-30aa-4063-a22b-a63b7598e67f",
   "metadata": {},
   "source": [
    "***\n",
    "# 2. Comparación entre configuraciones de datos\n",
    "\n",
    "Con los modelos elegidos, en este caso el LightGBM y XGBoost, voy a comprobar que set de datos obtiene mejores métricas. De esta manera también voy a obtener una comparación más amplia de cómo se desarrollan los modelos con distintas configuraciones de los datos y así decidir entre ambos definitivamente.\n",
    "\n",
    "Como ya conozco las del dataset base (train_1), voy a probar con las demás variantes:\n",
    "\n",
    "* Set \"completo\": El mismo dataset con el medí anteriormente pero sin feature selection, es decir con todas las variables originales.\n",
    "* Set con Undersampling\n",
    "* Set con Oversampling\n",
    "* Set con mix de Under y Over sampling."
   ]
  },
  {
   "cell_type": "code",
   "execution_count": 53,
   "id": "69ea26ac-179e-43fc-ae10-736f51bd0527",
   "metadata": {
    "tags": []
   },
   "outputs": [
    {
     "name": "stdout",
     "output_type": "stream",
     "text": [
      "\u001b[1mSet completo\u001b[0m\n",
      "\n",
      "Accuracy: 0.99958\n",
      "Balanced Accuracy: 0.90287\n",
      "\u001b[1mF2 score: 0.83000\u001b[0m\n",
      "\u001b[1mF1 score: 0.86911\u001b[0m\n",
      "Precision: 0.94318\n",
      "Recall: 0.80583\n",
      "\n",
      "Confusion Matrix:\n",
      "[[59702     5]\n",
      " [   20    83]]\n",
      "____________________________________________________________________________________________\n",
      "\u001b[1mSet Undersampling\u001b[0m\n",
      "\n",
      "Accuracy: 0.99681\n",
      "Balanced Accuracy: 0.93540\n",
      "\u001b[1mF2 score: 0.66176\u001b[0m\n",
      "\u001b[1mF1 score: 0.48518\u001b[0m\n",
      "Precision: 0.33582\n",
      "Recall: 0.87379\n",
      "\n",
      "Confusion Matrix:\n",
      "[[59529   178]\n",
      " [   13    90]]\n",
      "____________________________________________________________________________________________\n",
      "\u001b[1mSet Oversampling\u001b[0m\n",
      "\n",
      "Accuracy: 0.99955\n",
      "Balanced Accuracy: 0.92708\n",
      "\u001b[1mF2 score: 0.85938\u001b[0m\n",
      "\u001b[1mF1 score: 0.86700\u001b[0m\n",
      "Precision: 0.88000\n",
      "Recall: 0.85437\n",
      "\n",
      "Confusion Matrix:\n",
      "[[59695    12]\n",
      " [   15    88]]\n",
      "____________________________________________________________________________________________\n",
      "\u001b[1mSet Mix Over + Under sampling\u001b[0m\n",
      "\n",
      "Accuracy: 0.99953\n",
      "Balanced Accuracy: 0.92708\n",
      "\u001b[1mF2 score: 0.85770\u001b[0m\n",
      "\u001b[1mF1 score: 0.86275\u001b[0m\n",
      "Precision: 0.87129\n",
      "Recall: 0.85437\n",
      "\n",
      "Confusion Matrix:\n",
      "[[59694    13]\n",
      " [   15    88]]\n",
      "____________________________________________________________________________________________\n",
      "CPU times: total: 1min 56s\n",
      "Wall time: 1min 9s\n"
     ]
    }
   ],
   "source": [
    "%%time\n",
    "xgb = XGBClassifier()\n",
    "datasets_train = [[X_train_complete, y_train_complete]\\\n",
    "                 ,[X_train_under, y_train_under]\\\n",
    "                 ,[X_train_over, y_train_over]\\\n",
    "                 ,[X_train_mix, y_train_mix]\\\n",
    "                 ]\n",
    "\n",
    "datasets_validation = [[X_val_complete, y_val_complete]\\\n",
    "                      ,[X_val, y_val]\\\n",
    "                      ,[X_val, y_val]\\\n",
    "                      ,[X_val, y_val]\\\n",
    "                       ]\n",
    "\n",
    "names = ['Set completo', 'Set Undersampling', 'Set Oversampling', 'Set Mix Over + Under sampling']\n",
    "\n",
    "for train, val, name in zip(datasets_train, datasets_validation, names):\n",
    "    xgb.fit(train[0], train[1])   \n",
    "    y_pred_xgb = xgb.predict(val[0])\n",
    "    print(f'\\033[1m{name}\\033[0m')\n",
    "    fr.metrics_summ(val[1], y_pred_xgb)\n",
    "    print(\"____________________________________________________________________________________________\")\n"
   ]
  },
  {
   "cell_type": "code",
   "execution_count": 54,
   "id": "07dbb42f-a9d8-477a-ba19-9fc5c4e12414",
   "metadata": {},
   "outputs": [
    {
     "name": "stdout",
     "output_type": "stream",
     "text": [
      "\u001b[1mSet completo\u001b[0m\n",
      "\n",
      "Accuracy: 0.99687\n",
      "Balanced Accuracy: 0.79490\n",
      "\u001b[1mF2 score: 0.49353\u001b[0m\n",
      "\u001b[1mF1 score: 0.39482\u001b[0m\n",
      "Precision: 0.29612\n",
      "Recall: 0.59223\n",
      "\n",
      "Confusion Matrix:\n",
      "[[59562   145]\n",
      " [   42    61]]\n",
      "____________________________________________________________________________________________\n",
      "\u001b[1mSet Undersampling\u001b[0m\n",
      "\n",
      "Accuracy: 0.99798\n",
      "Balanced Accuracy: 0.93599\n",
      "\u001b[1mF2 score: 0.73770\u001b[0m\n",
      "\u001b[1mF1 score: 0.59801\u001b[0m\n",
      "Precision: 0.45455\n",
      "Recall: 0.87379\n",
      "\n",
      "Confusion Matrix:\n",
      "[[59599   108]\n",
      " [   13    90]]\n",
      "____________________________________________________________________________________________\n",
      "\u001b[1mSet Oversampling\u001b[0m\n",
      "\n",
      "Accuracy: 0.99936\n",
      "Balanced Accuracy: 0.92699\n",
      "\u001b[1mF2 score: 0.84130\u001b[0m\n",
      "\u001b[1mF1 score: 0.82243\u001b[0m\n",
      "Precision: 0.79279\n",
      "Recall: 0.85437\n",
      "\n",
      "Confusion Matrix:\n",
      "[[59684    23]\n",
      " [   15    88]]\n",
      "____________________________________________________________________________________________\n",
      "\u001b[1mSet Mix Over + Under sampling\u001b[0m\n",
      "\n",
      "Accuracy: 0.99943\n",
      "Balanced Accuracy: 0.93187\n",
      "\u001b[1mF2 score: 0.85413\u001b[0m\n",
      "\u001b[1mF1 score: 0.83962\u001b[0m\n",
      "Precision: 0.81651\n",
      "Recall: 0.86408\n",
      "\n",
      "Confusion Matrix:\n",
      "[[59687    20]\n",
      " [   14    89]]\n",
      "____________________________________________________________________________________________\n",
      "CPU times: total: 4.84 s\n",
      "Wall time: 4.36 s\n"
     ]
    }
   ],
   "source": [
    "%%time\n",
    "lgbm = LGBMClassifier(verbosity=-1)\n",
    "datasets_train = [[X_train_complete, y_train_complete]\\\n",
    "                 ,[X_train_under, y_train_under]\\\n",
    "                 ,[X_train_over, y_train_over]\\\n",
    "                 ,[X_train_mix, y_train_mix]\\\n",
    "                 ]\n",
    "\n",
    "datasets_validation = [[X_val_complete, y_val_complete]\\\n",
    "                      ,[X_val, y_val]\\\n",
    "                      ,[X_val, y_val]\\\n",
    "                      ,[X_val, y_val]\\\n",
    "                       ]\n",
    "\n",
    "names = ['Set completo', 'Set Undersampling', 'Set Oversampling', 'Set Mix Over + Under sampling']\n",
    "\n",
    "for train, val, name in zip(datasets_train, datasets_validation, names):\n",
    "    lgbm.fit(train[0], train[1])   \n",
    "    y_pred_lgbm = lgbm.predict(val[0])\n",
    "    print(f'\\033[1m{name}\\033[0m')\n",
    "    fr.metrics_summ(val[1], y_pred_lgbm)\n",
    "    print(\"____________________________________________________________________________________________\")\n"
   ]
  },
  {
   "cell_type": "markdown",
   "id": "c96ad9aa-b89e-4adb-8f6e-ab90e30e640a",
   "metadata": {},
   "source": [
    "### Conclusión de la comparación\n",
    "\n",
    "Realizar esta comparativa resultó ser realmente interesante, ya que son varias las conclusiones que podemos sacar:\n",
    "\n",
    "1. En primer lugar y más importante, es que el set con UnderSampling parece ser el que mejor resultados da en LightGBM, sorprendentemente con gran diferencia vs los demás. He de mencionar que realicé algunas pruebas en cuanto al % de balanceado que se le realizó al dataset, para no abusar de la eliminación de los datos y manetener buenas métricas. Estas pruebas podrán encontrarse en el notebook Experiments de la carpeta Experiments.\n",
    "2. Con mejores resultados me refiero a que aumentan mucho el F1 y el F2 con respecto a los demás manteniendo el Accuracy. Aún así, ese aumento del F1 se debe sobre todo al aumento del Recall, mientras que la precisión es menor a los datasets con OverSampling. Será interesante ver si con ajustes en los hiperparámetros esta métrica puede mejorar.\n",
    "3. Es interesante recalcar también que el mix de UnderSampling y OverSampling no da tan mal resultado, mejorando al set que solo tiene undersampling y manteniendo una cantidad de datos similar al train base.\n",
    "4. Es interesante también ver como haber recortado algunas variables no solo ha mantenido las métricas del modelo, sino que las ha mejorado. Esto lo podemos observar comparando las métricas del modelo con las variables recortadas (el primero que calculamos en la comparativa de modelos) y las del set completo, donde el primero mejora tanto en precision como en Recall al segundo, con el mismo accuracy y con una menor necesidad de procesamiento por el simple hecho de tener menos atributos.\n",
    "5. También se descarta por completo la idea de que las variables del PCA pudiesen mejorar el modelo, ya que como vemos, parecen simplemente haber incluído ruido innecesario, empeorando las métricas del mismo.\n",
    "6. El LightGBM logra los mejores resultados con el Undersampling y parece que puede seguir mejorando, aún más que el GaussianNB.\n",
    "7. El GaussianNB casualmente obtiene buenos resultados tanto con el set recortado por feature selection, con el set completo y con el undersampling, todos con resultados similares.\n",
    "\n",
    "Una vez determinado tanto el modelo como el set a utilizar, procederé a llevar a cabo la búsqueda de hiperparámetros."
   ]
  },
  {
   "cell_type": "markdown",
   "id": "e5e2855f-efb2-4136-afe1-7b9f28cf7627",
   "metadata": {},
   "source": [
    "## Búsqueda de hiperparámetros\n",
    "\n",
    "En la <a href='https://lightgbm.readthedocs.io/en/latest/Parameters-Tuning.html'>documentación de LightGBM</a> se dan algunos consejos sobre el tunning de los hiperparámetros del modelo, los cuales por cierto pueden ser muchos más. En ellos me basaré para decidir sobre algunas de las opciones que agregaré a mi grid de parámetros.\n",
    "\n",
    "Yo me he dedicado a comprobar entre los principales nombrados, siguiendo algunas indicaciones para determinar los valores elegidos, intentando que no permitan el overfitting ni underfitting.. Creo que los parametros elegidos se adaptan bien al tamaño del dataset y permiten una buena variedad de opciones en el cálculo.\n",
    "\n",
    "Los mismos serán evaluados con un Random Search, el cual normalmente obtiene resultados similares a un Grid Search pero con tiempos de procesamiento menores. Mientras que el GridSearchCV tardó horas en correr, la capacidad computacional requerida no vale la mínima mejora que puede ofrecer en el resultado final.\n",
    "\n",
    "Al ya haber seleccionado el modelo y el dataset a utilizar finalmente, ésta búsqueda de hiperparámetros se realizará en un dataset que combina tanto el train como el validation set, logrando así utilizar una mayor cantidad de datos en el análisis, debido a que la comparación ahora será contra el set de Test. Una vez obtenidos los hiperparámetros, la implementación del modelo y sus medidas se realizarán en un siguiente notebook aparte.\n",
    "\n",
    "Además de los parámetos incluídos en el RandomSearchCV de este notebook he probado con algunos otros como reg_alpha, reg_lambda, min_child_samples, entre algunos otros, pero sin obtener grandes cambios a medida que los probaba. Por ende decidí finalmente incluír los hiperparámetros que se verán a continuación:"
   ]
  },
  {
   "cell_type": "markdown",
   "id": "210b8eaa-9b1a-45b4-8d80-82325c902f8e",
   "metadata": {},
   "source": [
    "#### Vuelvo a combinar Test y Validation y realizo Undersampling, obteniendo el set de Train base para este análisis (X_train_2 e y_train_2):"
   ]
  },
  {
   "cell_type": "code",
   "execution_count": 55,
   "id": "7372a258-e3f8-49cd-908c-9d8e84e9a187",
   "metadata": {
    "tags": []
   },
   "outputs": [
    {
     "data": {
      "text/plain": [
       "((199020, 24),\n",
       " Class\n",
       " 0    0.8\n",
       " 1    0.2\n",
       " Name: proportion, dtype: float64)"
      ]
     },
     "execution_count": 55,
     "metadata": {},
     "output_type": "execute_result"
    }
   ],
   "source": [
    "X_train_2, y_train_2 = pipeline.fit_resample(X_train_0, y_train_0)\n",
    "\n",
    "X_train_2.shape, y_train_2.value_counts(normalize=True)"
   ]
  },
  {
   "cell_type": "markdown",
   "id": "3bd33d5a-940b-40fe-b3e7-eb9406800d86",
   "metadata": {},
   "source": [
    "Obtenemos un dataset de train de 104220 instancias y los 29 atributos, en este caso con un poco menos de desbalanceo que el set original.\n",
    "\n",
    "Con este dataset procederemos a realizar la búsqueda de hiperparámetros:"
   ]
  },
  {
   "cell_type": "code",
   "execution_count": 196,
   "id": "aab38142-2c09-4c18-90f7-233a39888cca",
   "metadata": {
    "tags": []
   },
   "outputs": [
    {
     "data": {
      "text/plain": [
       "85"
      ]
     },
     "execution_count": 196,
     "metadata": {},
     "output_type": "execute_result"
    }
   ],
   "source": [
    "round(2**7/1.5)"
   ]
  },
  {
   "cell_type": "code",
   "execution_count": 70,
   "id": "389ae068-c436-4771-be56-dde07f64a194",
   "metadata": {
    "tags": []
   },
   "outputs": [
    {
     "name": "stdout",
     "output_type": "stream",
     "text": [
      "{'num_leaves': 171, 'n_estimators ': 500, 'min_data_in_leaf': 1600, 'max_depth': 10, 'learning_rate': 0.05}\n",
      "0.9719188588682923\n",
      "CPU times: total: 2.95 s\n",
      "Wall time: 1min 48s\n"
     ]
    }
   ],
   "source": [
    "%%time\n",
    "f2_scorer = make_scorer(fbeta_score, beta=2)\n",
    "\n",
    "lgbm = LGBMClassifier(verbosity=-1)\n",
    "param_grid = { \n",
    "    'max_depth' : [8,9,10]\n",
    "    ,'num_leaves' : [round(2**8/1.5), round(2**9/1.5), round(2**10/1.5)] # La documentación de LightGBM comenta que num_leaves se relaciona con el max_depth así: (num_leaves = (2^max_depth/1.5))\n",
    "    ,'min_data_in_leaf' :[1400,1600,1800]\n",
    "    ,'n_estimators ': [500,600,700]\n",
    "    ,'learning_rate': [0.01, 0.02, 0.05]\n",
    "}\n",
    "\n",
    "scoring = {'f2':f2_scorer,'f1':'f1','accuracy':'accuracy', 'balanced_accuracy':'balanced_accuracy', 'precision':'precision', 'recall':'recall','roc_auc':'roc_auc'}\n",
    "\n",
    "CV_rs = RandomizedSearchCV(lgbm, param_grid, cv=10, random_state=seed, n_jobs=2, scoring=scoring, refit='f2')\n",
    "\n",
    "CV_rs.fit(X_train_2, y_train_2)  \n",
    "print(CV_rs.best_params_)    \n",
    "print(CV_rs.best_score_)"
   ]
  },
  {
   "cell_type": "code",
   "execution_count": 94,
   "id": "2e3846ee-7ebb-46a3-b8ca-6a15b0c1496f",
   "metadata": {},
   "outputs": [
    {
     "data": {
      "text/html": [
       "<style>#sk-container-id-4 {color: black;}#sk-container-id-4 pre{padding: 0;}#sk-container-id-4 div.sk-toggleable {background-color: white;}#sk-container-id-4 label.sk-toggleable__label {cursor: pointer;display: block;width: 100%;margin-bottom: 0;padding: 0.3em;box-sizing: border-box;text-align: center;}#sk-container-id-4 label.sk-toggleable__label-arrow:before {content: \"▸\";float: left;margin-right: 0.25em;color: #696969;}#sk-container-id-4 label.sk-toggleable__label-arrow:hover:before {color: black;}#sk-container-id-4 div.sk-estimator:hover label.sk-toggleable__label-arrow:before {color: black;}#sk-container-id-4 div.sk-toggleable__content {max-height: 0;max-width: 0;overflow: hidden;text-align: left;background-color: #f0f8ff;}#sk-container-id-4 div.sk-toggleable__content pre {margin: 0.2em;color: black;border-radius: 0.25em;background-color: #f0f8ff;}#sk-container-id-4 input.sk-toggleable__control:checked~div.sk-toggleable__content {max-height: 200px;max-width: 100%;overflow: auto;}#sk-container-id-4 input.sk-toggleable__control:checked~label.sk-toggleable__label-arrow:before {content: \"▾\";}#sk-container-id-4 div.sk-estimator input.sk-toggleable__control:checked~label.sk-toggleable__label {background-color: #d4ebff;}#sk-container-id-4 div.sk-label input.sk-toggleable__control:checked~label.sk-toggleable__label {background-color: #d4ebff;}#sk-container-id-4 input.sk-hidden--visually {border: 0;clip: rect(1px 1px 1px 1px);clip: rect(1px, 1px, 1px, 1px);height: 1px;margin: -1px;overflow: hidden;padding: 0;position: absolute;width: 1px;}#sk-container-id-4 div.sk-estimator {font-family: monospace;background-color: #f0f8ff;border: 1px dotted black;border-radius: 0.25em;box-sizing: border-box;margin-bottom: 0.5em;}#sk-container-id-4 div.sk-estimator:hover {background-color: #d4ebff;}#sk-container-id-4 div.sk-parallel-item::after {content: \"\";width: 100%;border-bottom: 1px solid gray;flex-grow: 1;}#sk-container-id-4 div.sk-label:hover label.sk-toggleable__label {background-color: #d4ebff;}#sk-container-id-4 div.sk-serial::before {content: \"\";position: absolute;border-left: 1px solid gray;box-sizing: border-box;top: 0;bottom: 0;left: 50%;z-index: 0;}#sk-container-id-4 div.sk-serial {display: flex;flex-direction: column;align-items: center;background-color: white;padding-right: 0.2em;padding-left: 0.2em;position: relative;}#sk-container-id-4 div.sk-item {position: relative;z-index: 1;}#sk-container-id-4 div.sk-parallel {display: flex;align-items: stretch;justify-content: center;background-color: white;position: relative;}#sk-container-id-4 div.sk-item::before, #sk-container-id-4 div.sk-parallel-item::before {content: \"\";position: absolute;border-left: 1px solid gray;box-sizing: border-box;top: 0;bottom: 0;left: 50%;z-index: -1;}#sk-container-id-4 div.sk-parallel-item {display: flex;flex-direction: column;z-index: 1;position: relative;background-color: white;}#sk-container-id-4 div.sk-parallel-item:first-child::after {align-self: flex-end;width: 50%;}#sk-container-id-4 div.sk-parallel-item:last-child::after {align-self: flex-start;width: 50%;}#sk-container-id-4 div.sk-parallel-item:only-child::after {width: 0;}#sk-container-id-4 div.sk-dashed-wrapped {border: 1px dashed gray;margin: 0 0.4em 0.5em 0.4em;box-sizing: border-box;padding-bottom: 0.4em;background-color: white;}#sk-container-id-4 div.sk-label label {font-family: monospace;font-weight: bold;display: inline-block;line-height: 1.2em;}#sk-container-id-4 div.sk-label-container {text-align: center;}#sk-container-id-4 div.sk-container {/* jupyter's `normalize.less` sets `[hidden] { display: none; }` but bootstrap.min.css set `[hidden] { display: none !important; }` so we also need the `!important` here to be able to override the default hidden behavior on the sphinx rendered scikit-learn.org. See: https://github.com/scikit-learn/scikit-learn/issues/21755 */display: inline-block !important;position: relative;}#sk-container-id-4 div.sk-text-repr-fallback {display: none;}</style><div id=\"sk-container-id-4\" class=\"sk-top-container\"><div class=\"sk-text-repr-fallback\"><pre>LGBMClassifier(learning_rate=0.05, max_depth=10, min_data_in_leaf=1600,\n",
       "               n_estimators =500, num_leaves=171, verbosity=-1)</pre><b>In a Jupyter environment, please rerun this cell to show the HTML representation or trust the notebook. <br />On GitHub, the HTML representation is unable to render, please try loading this page with nbviewer.org.</b></div><div class=\"sk-container\" hidden><div class=\"sk-item\"><div class=\"sk-estimator sk-toggleable\"><input class=\"sk-toggleable__control sk-hidden--visually\" id=\"sk-estimator-id-4\" type=\"checkbox\" checked><label for=\"sk-estimator-id-4\" class=\"sk-toggleable__label sk-toggleable__label-arrow\">LGBMClassifier</label><div class=\"sk-toggleable__content\"><pre>LGBMClassifier(learning_rate=0.05, max_depth=10, min_data_in_leaf=1600,\n",
       "               n_estimators =500, num_leaves=171, verbosity=-1)</pre></div></div></div></div></div>"
      ],
      "text/plain": [
       "LGBMClassifier(learning_rate=0.05, max_depth=10, min_data_in_leaf=1600,\n",
       "               n_estimators =500, num_leaves=171, verbosity=-1)"
      ]
     },
     "execution_count": 94,
     "metadata": {},
     "output_type": "execute_result"
    }
   ],
   "source": [
    "CV_rs.best_estimator_"
   ]
  },
  {
   "cell_type": "code",
   "execution_count": 95,
   "id": "299d00b9-810c-4668-a34d-8218fa2376fc",
   "metadata": {
    "tags": []
   },
   "outputs": [
    {
     "data": {
      "text/plain": [
       "{'num_leaves': 171,\n",
       " 'n_estimators ': 500,\n",
       " 'min_data_in_leaf': 1600,\n",
       " 'max_depth': 10,\n",
       " 'learning_rate': 0.05}"
      ]
     },
     "execution_count": 95,
     "metadata": {},
     "output_type": "execute_result"
    }
   ],
   "source": [
    "CV_rs.best_params_"
   ]
  },
  {
   "cell_type": "code",
   "execution_count": 96,
   "id": "3a2a2e16-de71-4a93-a2fa-51fb2453403c",
   "metadata": {
    "tags": []
   },
   "outputs": [
    {
     "data": {
      "text/plain": [
       "0.9719188588682923"
      ]
     },
     "execution_count": 96,
     "metadata": {},
     "output_type": "execute_result"
    }
   ],
   "source": [
    "CV_rs.best_score_"
   ]
  },
  {
   "cell_type": "code",
   "execution_count": 97,
   "id": "6e3320a8",
   "metadata": {},
   "outputs": [
    {
     "name": "stdout",
     "output_type": "stream",
     "text": [
      "\n",
      "Accuracy: 0.99980\n",
      "Balanced Accuracy: 0.99990\n",
      "\u001b[1mF2 score: 0.97723\u001b[0m\n",
      "\u001b[1mF1 score: 0.94495\u001b[0m\n",
      "Precision: 0.89565\n",
      "Recall: 1.00000\n",
      "\n",
      "Confusion Matrix:\n",
      "[[59695    12]\n",
      " [    0   103]]\n"
     ]
    }
   ],
   "source": [
    "lgbm_best = LGBMClassifier(learning_rate=0.05\n",
    "                        , max_depth=10\n",
    "                        , min_data_in_leaf=1600\n",
    "                        , n_estimators=500\n",
    "                        , num_leaves=171\n",
    "                        , objective='binary'\n",
    "                        , verbosity=-1)\n",
    "\n",
    "lgbm_best.fit(X_train_2, y_train_2)\n",
    "\n",
    "y_pred_lgbm_best = lgbm_best.predict(X_val)\n",
    "\n",
    "fr.metrics_summ(y_val, y_pred_lgbm_best)"
   ]
  },
  {
   "cell_type": "code",
   "execution_count": 98,
   "id": "480d2700",
   "metadata": {},
   "outputs": [],
   "source": [
    "df_test = pd.read_csv('../data/df_fraud_test.csv')\n",
    "\n",
    "df_test = fr.feature_selection(fr.preprocessing(df_test).fit_transform(df_test, df_test.Class))\n",
    "\n",
    "X_test = df_test.drop('Class', axis=1)\n",
    "y_test = df_test['Class']"
   ]
  },
  {
   "cell_type": "code",
   "execution_count": 99,
   "id": "2f5466c7",
   "metadata": {},
   "outputs": [
    {
     "data": {
      "text/plain": [
       "{'num_leaves': 171,\n",
       " 'n_estimators ': 500,\n",
       " 'min_data_in_leaf': 1600,\n",
       " 'max_depth': 10,\n",
       " 'learning_rate': 0.05}"
      ]
     },
     "execution_count": 99,
     "metadata": {},
     "output_type": "execute_result"
    }
   ],
   "source": [
    "CV_rs.best_params_"
   ]
  },
  {
   "cell_type": "code",
   "execution_count": 100,
   "id": "8942ed0e",
   "metadata": {},
   "outputs": [
    {
     "name": "stdout",
     "output_type": "stream",
     "text": [
      "\n",
      "Accuracy: 0.99949\n",
      "Balanced Accuracy: 0.92555\n",
      "\u001b[1mF2 score: 0.85135\u001b[0m\n",
      "\u001b[1mF1 score: 0.85135\u001b[0m\n",
      "Precision: 0.85135\n",
      "Recall: 0.85135\n",
      "\n",
      "Confusion Matrix:\n",
      "[[85273    22]\n",
      " [   22   126]]\n"
     ]
    }
   ],
   "source": [
    "lgbm_best = LGBMClassifier(learning_rate=0.05\n",
    "                        , max_depth=10\n",
    "                        , min_data_in_leaf=1600\n",
    "                        , n_estimators=500\n",
    "                        , num_leaves=171\n",
    "                        , objective='binary'\n",
    "                        , verbosity=-1)\n",
    "\n",
    "lgbm_best.fit(X_train_2, y_train_2)\n",
    "\n",
    "y_pred_lgbm_best = lgbm_best.predict(X_test)\n",
    "\n",
    "fr.metrics_summ(y_test, y_pred_lgbm_best)"
   ]
  },
  {
   "cell_type": "markdown",
   "id": "6e11c65e",
   "metadata": {},
   "source": [
    "***"
   ]
  },
  {
   "cell_type": "code",
   "execution_count": 102,
   "id": "eb7fc3d7",
   "metadata": {},
   "outputs": [
    {
     "name": "stdout",
     "output_type": "stream",
     "text": [
      "{'subsample': 1, 'n_estimators': 600, 'min_child_weight': 3, 'max_depth': 10, 'learning_rate': 0.05, 'eta': 0.01}\n",
      "0.9994574078355045\n",
      "CPU times: total: 9min 57s\n",
      "Wall time: 2h 48min 38s\n"
     ]
    }
   ],
   "source": [
    "%%time\n",
    "f2_scorer = make_scorer(fbeta_score, beta=2)\n",
    "\n",
    "xgb = XGBClassifier(verbosity=0)\n",
    "param_grid = { \n",
    "    'max_depth' : [6,8,10]\n",
    "    ,'eta' : [0.01, 0.03, 0.05]\n",
    "    ,'min_child_weight' :[1,3,5]\n",
    "    ,'n_estimators': [400,500,600]\n",
    "    ,'subsample': [0.8, 0.9, 1]\n",
    "    ,'learning_rate': [0.01, 0.025, 0.05]\n",
    "}\n",
    "\n",
    "scoring = {'f2':f2_scorer,'f1':'f1','accuracy':'accuracy', 'balanced_accuracy':'balanced_accuracy', 'precision':'precision', 'recall':'recall','roc_auc':'roc_auc'}\n",
    "\n",
    "CV_rs_x = RandomizedSearchCV(xgb, param_grid, cv=10, random_state=seed, n_jobs=2, scoring=scoring, refit='f2')\n",
    "\n",
    "CV_rs_x.fit(X_train_2, y_train_2)  \n",
    "print(CV_rs_x.best_params_)    \n",
    "print(CV_rs_x.best_score_)"
   ]
  },
  {
   "cell_type": "code",
   "execution_count": 103,
   "id": "ff3a6e9c",
   "metadata": {},
   "outputs": [
    {
     "data": {
      "text/html": [
       "<style>#sk-container-id-5 {color: black;}#sk-container-id-5 pre{padding: 0;}#sk-container-id-5 div.sk-toggleable {background-color: white;}#sk-container-id-5 label.sk-toggleable__label {cursor: pointer;display: block;width: 100%;margin-bottom: 0;padding: 0.3em;box-sizing: border-box;text-align: center;}#sk-container-id-5 label.sk-toggleable__label-arrow:before {content: \"▸\";float: left;margin-right: 0.25em;color: #696969;}#sk-container-id-5 label.sk-toggleable__label-arrow:hover:before {color: black;}#sk-container-id-5 div.sk-estimator:hover label.sk-toggleable__label-arrow:before {color: black;}#sk-container-id-5 div.sk-toggleable__content {max-height: 0;max-width: 0;overflow: hidden;text-align: left;background-color: #f0f8ff;}#sk-container-id-5 div.sk-toggleable__content pre {margin: 0.2em;color: black;border-radius: 0.25em;background-color: #f0f8ff;}#sk-container-id-5 input.sk-toggleable__control:checked~div.sk-toggleable__content {max-height: 200px;max-width: 100%;overflow: auto;}#sk-container-id-5 input.sk-toggleable__control:checked~label.sk-toggleable__label-arrow:before {content: \"▾\";}#sk-container-id-5 div.sk-estimator input.sk-toggleable__control:checked~label.sk-toggleable__label {background-color: #d4ebff;}#sk-container-id-5 div.sk-label input.sk-toggleable__control:checked~label.sk-toggleable__label {background-color: #d4ebff;}#sk-container-id-5 input.sk-hidden--visually {border: 0;clip: rect(1px 1px 1px 1px);clip: rect(1px, 1px, 1px, 1px);height: 1px;margin: -1px;overflow: hidden;padding: 0;position: absolute;width: 1px;}#sk-container-id-5 div.sk-estimator {font-family: monospace;background-color: #f0f8ff;border: 1px dotted black;border-radius: 0.25em;box-sizing: border-box;margin-bottom: 0.5em;}#sk-container-id-5 div.sk-estimator:hover {background-color: #d4ebff;}#sk-container-id-5 div.sk-parallel-item::after {content: \"\";width: 100%;border-bottom: 1px solid gray;flex-grow: 1;}#sk-container-id-5 div.sk-label:hover label.sk-toggleable__label {background-color: #d4ebff;}#sk-container-id-5 div.sk-serial::before {content: \"\";position: absolute;border-left: 1px solid gray;box-sizing: border-box;top: 0;bottom: 0;left: 50%;z-index: 0;}#sk-container-id-5 div.sk-serial {display: flex;flex-direction: column;align-items: center;background-color: white;padding-right: 0.2em;padding-left: 0.2em;position: relative;}#sk-container-id-5 div.sk-item {position: relative;z-index: 1;}#sk-container-id-5 div.sk-parallel {display: flex;align-items: stretch;justify-content: center;background-color: white;position: relative;}#sk-container-id-5 div.sk-item::before, #sk-container-id-5 div.sk-parallel-item::before {content: \"\";position: absolute;border-left: 1px solid gray;box-sizing: border-box;top: 0;bottom: 0;left: 50%;z-index: -1;}#sk-container-id-5 div.sk-parallel-item {display: flex;flex-direction: column;z-index: 1;position: relative;background-color: white;}#sk-container-id-5 div.sk-parallel-item:first-child::after {align-self: flex-end;width: 50%;}#sk-container-id-5 div.sk-parallel-item:last-child::after {align-self: flex-start;width: 50%;}#sk-container-id-5 div.sk-parallel-item:only-child::after {width: 0;}#sk-container-id-5 div.sk-dashed-wrapped {border: 1px dashed gray;margin: 0 0.4em 0.5em 0.4em;box-sizing: border-box;padding-bottom: 0.4em;background-color: white;}#sk-container-id-5 div.sk-label label {font-family: monospace;font-weight: bold;display: inline-block;line-height: 1.2em;}#sk-container-id-5 div.sk-label-container {text-align: center;}#sk-container-id-5 div.sk-container {/* jupyter's `normalize.less` sets `[hidden] { display: none; }` but bootstrap.min.css set `[hidden] { display: none !important; }` so we also need the `!important` here to be able to override the default hidden behavior on the sphinx rendered scikit-learn.org. See: https://github.com/scikit-learn/scikit-learn/issues/21755 */display: inline-block !important;position: relative;}#sk-container-id-5 div.sk-text-repr-fallback {display: none;}</style><div id=\"sk-container-id-5\" class=\"sk-top-container\"><div class=\"sk-text-repr-fallback\"><pre>XGBClassifier(base_score=None, booster=None, callbacks=None,\n",
       "              colsample_bylevel=None, colsample_bynode=None,\n",
       "              colsample_bytree=None, early_stopping_rounds=None,\n",
       "              enable_categorical=False, eta=0.01, eval_metric=None,\n",
       "              feature_types=None, gamma=None, gpu_id=None, grow_policy=None,\n",
       "              importance_type=None, interaction_constraints=None,\n",
       "              learning_rate=0.05, max_bin=None, max_cat_threshold=None,\n",
       "              max_cat_to_onehot=None, max_delta_step=None, max_depth=10,\n",
       "              max_leaves=None, min_child_weight=3, missing=nan,\n",
       "              monotone_constraints=None, n_estimators=600, n_jobs=None,\n",
       "              num_parallel_tree=None, predictor=None, ...)</pre><b>In a Jupyter environment, please rerun this cell to show the HTML representation or trust the notebook. <br />On GitHub, the HTML representation is unable to render, please try loading this page with nbviewer.org.</b></div><div class=\"sk-container\" hidden><div class=\"sk-item\"><div class=\"sk-estimator sk-toggleable\"><input class=\"sk-toggleable__control sk-hidden--visually\" id=\"sk-estimator-id-5\" type=\"checkbox\" checked><label for=\"sk-estimator-id-5\" class=\"sk-toggleable__label sk-toggleable__label-arrow\">XGBClassifier</label><div class=\"sk-toggleable__content\"><pre>XGBClassifier(base_score=None, booster=None, callbacks=None,\n",
       "              colsample_bylevel=None, colsample_bynode=None,\n",
       "              colsample_bytree=None, early_stopping_rounds=None,\n",
       "              enable_categorical=False, eta=0.01, eval_metric=None,\n",
       "              feature_types=None, gamma=None, gpu_id=None, grow_policy=None,\n",
       "              importance_type=None, interaction_constraints=None,\n",
       "              learning_rate=0.05, max_bin=None, max_cat_threshold=None,\n",
       "              max_cat_to_onehot=None, max_delta_step=None, max_depth=10,\n",
       "              max_leaves=None, min_child_weight=3, missing=nan,\n",
       "              monotone_constraints=None, n_estimators=600, n_jobs=None,\n",
       "              num_parallel_tree=None, predictor=None, ...)</pre></div></div></div></div></div>"
      ],
      "text/plain": [
       "XGBClassifier(base_score=None, booster=None, callbacks=None,\n",
       "              colsample_bylevel=None, colsample_bynode=None,\n",
       "              colsample_bytree=None, early_stopping_rounds=None,\n",
       "              enable_categorical=False, eta=0.01, eval_metric=None,\n",
       "              feature_types=None, gamma=None, gpu_id=None, grow_policy=None,\n",
       "              importance_type=None, interaction_constraints=None,\n",
       "              learning_rate=0.05, max_bin=None, max_cat_threshold=None,\n",
       "              max_cat_to_onehot=None, max_delta_step=None, max_depth=10,\n",
       "              max_leaves=None, min_child_weight=3, missing=nan,\n",
       "              monotone_constraints=None, n_estimators=600, n_jobs=None,\n",
       "              num_parallel_tree=None, predictor=None, ...)"
      ]
     },
     "execution_count": 103,
     "metadata": {},
     "output_type": "execute_result"
    }
   ],
   "source": [
    "CV_rs_x.best_estimator_"
   ]
  },
  {
   "cell_type": "code",
   "execution_count": 105,
   "id": "d22bf5a5",
   "metadata": {},
   "outputs": [
    {
     "data": {
      "text/plain": [
       "{'subsample': 1,\n",
       " 'n_estimators': 600,\n",
       " 'min_child_weight': 3,\n",
       " 'max_depth': 10,\n",
       " 'learning_rate': 0.05,\n",
       " 'eta': 0.01}"
      ]
     },
     "execution_count": 105,
     "metadata": {},
     "output_type": "execute_result"
    }
   ],
   "source": [
    "CV_rs_x.best_params_"
   ]
  },
  {
   "cell_type": "code",
   "execution_count": 164,
   "id": "c2946fab",
   "metadata": {},
   "outputs": [
    {
     "name": "stdout",
     "output_type": "stream",
     "text": [
      "\n",
      "Accuracy: 0.99948\n",
      "Balanced Accuracy: 0.92705\n",
      "\u001b[1mF2 score: 0.85271\u001b[0m\n",
      "\u001b[1mF1 score: 0.85024\u001b[0m\n",
      "Precision: 0.84615\n",
      "Recall: 0.85437\n",
      "\n",
      "Confusion Matrix:\n",
      "[[59691    16]\n",
      " [   15    88]]\n"
     ]
    }
   ],
   "source": [
    "xgb_best2 = XGBClassifier(learning_rate=0.05\n",
    "                        , max_depth=10\n",
    "                        , n_estimators=600\n",
    "                        , subsample=1\n",
    "                        , min_child_weight=3\n",
    "                        , eta=0.01\n",
    "                        , verbosity=0)\n",
    "\n",
    "xgb_best2.fit(X_train_mix, y_train_mix)\n",
    "\n",
    "y_pred_xgb_best2 = xgb_best2.predict(X_val)\n",
    "\n",
    "fr.metrics_summ(y_val, y_pred_xgb_best2)"
   ]
  },
  {
   "cell_type": "code",
   "execution_count": 106,
   "id": "862b77ca",
   "metadata": {},
   "outputs": [
    {
     "name": "stdout",
     "output_type": "stream",
     "text": [
      "\n",
      "Accuracy: 0.99944\n",
      "Balanced Accuracy: 0.92215\n",
      "\u001b[1mF2 score: 0.84232\u001b[0m\n",
      "\u001b[1mF1 score: 0.83893\u001b[0m\n",
      "Precision: 0.83333\n",
      "Recall: 0.84459\n",
      "\n",
      "Confusion Matrix:\n",
      "[[85270    25]\n",
      " [   23   125]]\n"
     ]
    }
   ],
   "source": [
    "xgb_best = XGBClassifier(learning_rate=0.05\n",
    "                        , max_depth=10\n",
    "                        , n_estimators=600\n",
    "                        , subsample=1\n",
    "                        , min_child_weight=3\n",
    "                        , eta=0.01\n",
    "                        , verbosity=0)\n",
    "\n",
    "xgb_best.fit(X_train_2, y_train_2)\n",
    "\n",
    "y_pred_xgb_best = xgb_best.predict(X_test)\n",
    "\n",
    "fr.metrics_summ(y_test, y_pred_xgb_best)"
   ]
  },
  {
   "cell_type": "markdown",
   "id": "ace02123-653a-46d4-8a73-1cdd8d708cf1",
   "metadata": {},
   "source": [
    "***\n",
    "# Exportamos Dataset y entrenamiento\n",
    "\n",
    "El mejor modelo, ante una igualdad de métricas, es el LightGBM debido a su superioridad en cuanto a rendimiento y eficiencia computacional.\n",
    "\n",
    "Luego de haber determinado el modelo a utilizar, la configuración de datos óptimo para dicho modelo y sus hiperparámetros, procedo a exportar lo obtenido. El modelo definitivo será entrenado y medido en el siguiente notebook."
   ]
  },
  {
   "cell_type": "code",
   "execution_count": 107,
   "id": "f1b91e2a-dbe5-45e1-bb0b-9305ccd32422",
   "metadata": {},
   "outputs": [],
   "source": [
    "pd.concat([X_train_2,y_train_2], axis=1).to_csv('../data/df_train_balanced.csv', index=False)"
   ]
  },
  {
   "cell_type": "code",
   "execution_count": 108,
   "id": "325b0038-b22a-4fac-93c3-35cf3351e534",
   "metadata": {},
   "outputs": [
    {
     "data": {
      "text/plain": [
       "['../models/CV_lgbm.joblib']"
      ]
     },
     "execution_count": 108,
     "metadata": {},
     "output_type": "execute_result"
    }
   ],
   "source": [
    "dump(CV_rs, '../models/CV_lgbm.joblib')"
   ]
  },
  {
   "cell_type": "code",
   "execution_count": 109,
   "id": "8d40cc0b-ca23-4244-8529-eb27ab02c8ec",
   "metadata": {
    "tags": []
   },
   "outputs": [
    {
     "data": {
      "text/plain": [
       "['../models/CV_xgb.joblib']"
      ]
     },
     "execution_count": 109,
     "metadata": {},
     "output_type": "execute_result"
    }
   ],
   "source": [
    "dump(CV_rs_x, '../models/CV_xgb.joblib')"
   ]
  },
  {
   "cell_type": "markdown",
   "id": "25c99c32",
   "metadata": {},
   "source": [
    "***\n",
    "## GAM"
   ]
  },
  {
   "cell_type": "code",
   "execution_count": 162,
   "id": "613b3c5b",
   "metadata": {},
   "outputs": [
    {
     "name": "stdout",
     "output_type": "stream",
     "text": [
      "CPU times: total: 3min 5s\n",
      "Wall time: 2min 5s\n"
     ]
    },
    {
     "data": {
      "text/plain": [
       "LogisticGAM(callbacks=[Deviance(), Diffs(), Accuracy()], \n",
       "   fit_intercept=True, max_iter=100, \n",
       "   terms=s(0) + s(1) + s(2) + s(3) + s(4) + s(5) + s(6) + s(7) + s(8) + s(9) + s(10) + s(11) + s(12) + s(13) + s(14) + s(15) + s(16) + s(17) + s(18) + s(19) + s(20) + s(21) + s(22) + s(23) + intercept,\n",
       "   tol=0.0001, verbose=False)"
      ]
     },
     "execution_count": 162,
     "metadata": {},
     "output_type": "execute_result"
    }
   ],
   "source": [
    "%%time\n",
    "gam = LogisticGAM()\n",
    "gam.fit(X_train_mix, y_train_mix)"
   ]
  },
  {
   "cell_type": "code",
   "execution_count": 163,
   "id": "1c57d076",
   "metadata": {},
   "outputs": [
    {
     "name": "stdout",
     "output_type": "stream",
     "text": [
      "\n",
      "Accuracy: 0.99375\n",
      "Balanced Accuracy: 0.93872\n",
      "\u001b[1mF2 score: 0.52601\u001b[0m\n",
      "\u001b[1mF1 score: 0.32734\u001b[0m\n",
      "Precision: 0.20088\n",
      "Recall: 0.88350\n",
      "\n",
      "Confusion Matrix:\n",
      "[[59345   362]\n",
      " [   12    91]]\n"
     ]
    }
   ],
   "source": [
    "y_pred_gam = gam.predict(X_val)\n",
    "\n",
    "fr.metrics_summ(y_val, y_pred_gam)"
   ]
  },
  {
   "cell_type": "code",
   "execution_count": 160,
   "id": "3be8386b",
   "metadata": {},
   "outputs": [
    {
     "name": "stdout",
     "output_type": "stream",
     "text": [
      "CPU times: total: 5min 40s\n",
      "Wall time: 3min 6s\n"
     ]
    },
    {
     "data": {
      "text/plain": [
       "LogisticGAM(callbacks=[Deviance(), Diffs(), Accuracy()], \n",
       "   fit_intercept=True, max_iter=100, \n",
       "   terms=s(0) + s(1) + s(2) + s(3) + s(4) + s(5) + s(6) + s(7) + s(8) + s(9) + s(10) + s(11) + s(12) + s(13) + s(14) + s(15) + s(16) + s(17) + s(18) + s(19) + s(20) + s(21) + s(22) + s(23) + intercept,\n",
       "   tol=0.0001, verbose=False)"
      ]
     },
     "execution_count": 160,
     "metadata": {},
     "output_type": "execute_result"
    }
   ],
   "source": [
    "%%time\n",
    "gam = LogisticGAM()\n",
    "gam.fit(X_train_2, y_train_2)"
   ]
  },
  {
   "cell_type": "code",
   "execution_count": 161,
   "id": "ecfe51cb",
   "metadata": {},
   "outputs": [
    {
     "name": "stdout",
     "output_type": "stream",
     "text": [
      "\n",
      "Accuracy: 0.99370\n",
      "Balanced Accuracy: 0.92265\n",
      "\u001b[1mF2 score: 0.51053\u001b[0m\n",
      "\u001b[1mF1 score: 0.31899\u001b[0m\n",
      "Precision: 0.19626\n",
      "Recall: 0.85135\n",
      "\n",
      "Confusion Matrix:\n",
      "[[84779   516]\n",
      " [   22   126]]\n"
     ]
    }
   ],
   "source": [
    "y_pred_gam = gam.predict(X_test)\n",
    "\n",
    "fr.metrics_summ(y_test, y_pred_gam)"
   ]
  },
  {
   "cell_type": "code",
   "execution_count": null,
   "id": "d744d93a",
   "metadata": {},
   "outputs": [],
   "source": []
  },
  {
   "cell_type": "code",
   "execution_count": null,
   "id": "fcbb5b8c",
   "metadata": {},
   "outputs": [],
   "source": []
  },
  {
   "cell_type": "code",
   "execution_count": null,
   "id": "5f3dfdc3",
   "metadata": {},
   "outputs": [],
   "source": []
  }
 ],
 "metadata": {
  "kernelspec": {
   "display_name": "practica0",
   "language": "python",
   "name": "python3"
  },
  "language_info": {
   "codemirror_mode": {
    "name": "ipython",
    "version": 3
   },
   "file_extension": ".py",
   "mimetype": "text/x-python",
   "name": "python",
   "nbconvert_exporter": "python",
   "pygments_lexer": "ipython3",
   "version": "3.9.18"
  }
 },
 "nbformat": 4,
 "nbformat_minor": 5
}
